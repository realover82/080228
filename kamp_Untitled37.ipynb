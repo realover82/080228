{
  "nbformat": 4,
  "nbformat_minor": 0,
  "metadata": {
    "colab": {
      "provenance": [],
      "authorship_tag": "ABX9TyO2vIDT5R+qzw6UaNSuGx/w",
      "include_colab_link": true
    },
    "kernelspec": {
      "name": "python3",
      "display_name": "Python 3"
    },
    "language_info": {
      "name": "python"
    }
  },
  "cells": [
    {
      "cell_type": "markdown",
      "metadata": {
        "id": "view-in-github",
        "colab_type": "text"
      },
      "source": [
        "<a href=\"https://colab.research.google.com/github/realover82/080228_scratch_affin/blob/master/kamp_Untitled37.ipynb\" target=\"_parent\"><img src=\"https://colab.research.google.com/assets/colab-badge.svg\" alt=\"Open In Colab\"/></a>"
      ]
    },
    {
      "cell_type": "code",
      "execution_count": null,
      "metadata": {
        "id": "TlQMfXxJWD-1"
      },
      "outputs": [],
      "source": []
    },
    {
      "cell_type": "code",
      "source": [
        "from google.colab import drive\n",
        "drive.mount('/content/drive')"
      ],
      "metadata": {
        "colab": {
          "base_uri": "https://localhost:8080/",
          "height": 0
        },
        "id": "26PR-3UsWT0Q",
        "outputId": "cdf95ec5-a56f-43fa-9acb-af37ef5b6fde"
      },
      "execution_count": 1,
      "outputs": [
        {
          "output_type": "stream",
          "name": "stdout",
          "text": [
            "Mounted at /content/drive\n"
          ]
        }
      ]
    },
    {
      "cell_type": "code",
      "source": [
        "# /content/drive/MyDrive/deeplearning/Dataset_revolve/data/g1_sensor1.csv"
      ],
      "metadata": {
        "id": "Z_uC8wAvXBIF"
      },
      "execution_count": null,
      "outputs": []
    },
    {
      "cell_type": "code",
      "source": [
        "import numpy as np\n",
        "import pandas as pd\n",
        "import random\n",
        "import seaborn as sns\n",
        "import torch\n",
        "import torch.nn as nn\n",
        "import matplotlib.pyplot as plt"
      ],
      "metadata": {
        "id": "EBq7LOs9XB6v"
      },
      "execution_count": 2,
      "outputs": []
    },
    {
      "cell_type": "code",
      "source": [
        "# group 1의 데이터를 사용할 경우, 아래 코드를 실행합니다.\n",
        "sensor1 = pd.read_csv('/content/drive/MyDrive/deeplearning/Dataset_revolve/data/g1_sensor1.csv', names = ['time', 'normal', 'type1', 'type2', 'type3'])\n",
        "sensor2 = pd.read_csv('/content/drive/MyDrive/deeplearning/Dataset_revolve/data/g1_sensor2.csv', names = ['time', 'normal', 'type1', 'type2', 'type3'])\n",
        "sensor3 = pd.read_csv('/content/drive/MyDrive/deeplearning/Dataset_revolve/data/g1_sensor3.csv', names = ['time', 'normal', 'type1', 'type2', 'type3'])\n",
        "sensor4 = pd.read_csv('/content/drive/MyDrive/deeplearning/Dataset_revolve/data/g1_sensor4.csv', names = ['time', 'normal', 'type1', 'type2', 'type3'])"
      ],
      "metadata": {
        "id": "ZaQdV6WFXIQ6"
      },
      "execution_count": 3,
      "outputs": []
    },
    {
      "cell_type": "code",
      "source": [
        "sensor1"
      ],
      "metadata": {
        "colab": {
          "base_uri": "https://localhost:8080/",
          "height": 423
        },
        "id": "OBX128qtXUCS",
        "outputId": "43aab91f-92a2-4609-ddff-4a1fa8a11e1e"
      },
      "execution_count": 4,
      "outputs": [
        {
          "output_type": "execute_result",
          "data": {
            "text/plain": [
              "              time    normal     type1     type2     type3\n",
              "0         0.000000 -0.853307 -3.464579  0.555219  3.919664\n",
              "1         0.000736 -0.740463 -2.448986 -0.234687  4.145351\n",
              "2         0.001472 -0.138630 -1.922383 -0.009000  2.941685\n",
              "3         0.002208  0.049443 -0.906790 -0.272301  2.603155\n",
              "4         0.002944 -0.289088 -0.568259 -0.986978  1.361874\n",
              "...            ...       ...       ...       ...       ...\n",
              "190213  139.996768 -1.156354 -2.696750  0.844491 -2.109427\n",
              "190214  139.997504 -0.930666 -1.380241  0.919720 -2.222270\n",
              "190215  139.998240 -0.554521 -2.132532  0.731647 -2.109427\n",
              "190216  139.998976 -1.419655 -2.433448  1.183022 -3.087405\n",
              "190217  139.999712 -0.441677 -2.245376  1.333480 -2.184656\n",
              "\n",
              "[190218 rows x 5 columns]"
            ],
            "text/html": [
              "\n",
              "  <div id=\"df-497512b7-af18-4970-abf4-1ef66aaec09c\" class=\"colab-df-container\">\n",
              "    <div>\n",
              "<style scoped>\n",
              "    .dataframe tbody tr th:only-of-type {\n",
              "        vertical-align: middle;\n",
              "    }\n",
              "\n",
              "    .dataframe tbody tr th {\n",
              "        vertical-align: top;\n",
              "    }\n",
              "\n",
              "    .dataframe thead th {\n",
              "        text-align: right;\n",
              "    }\n",
              "</style>\n",
              "<table border=\"1\" class=\"dataframe\">\n",
              "  <thead>\n",
              "    <tr style=\"text-align: right;\">\n",
              "      <th></th>\n",
              "      <th>time</th>\n",
              "      <th>normal</th>\n",
              "      <th>type1</th>\n",
              "      <th>type2</th>\n",
              "      <th>type3</th>\n",
              "    </tr>\n",
              "  </thead>\n",
              "  <tbody>\n",
              "    <tr>\n",
              "      <th>0</th>\n",
              "      <td>0.000000</td>\n",
              "      <td>-0.853307</td>\n",
              "      <td>-3.464579</td>\n",
              "      <td>0.555219</td>\n",
              "      <td>3.919664</td>\n",
              "    </tr>\n",
              "    <tr>\n",
              "      <th>1</th>\n",
              "      <td>0.000736</td>\n",
              "      <td>-0.740463</td>\n",
              "      <td>-2.448986</td>\n",
              "      <td>-0.234687</td>\n",
              "      <td>4.145351</td>\n",
              "    </tr>\n",
              "    <tr>\n",
              "      <th>2</th>\n",
              "      <td>0.001472</td>\n",
              "      <td>-0.138630</td>\n",
              "      <td>-1.922383</td>\n",
              "      <td>-0.009000</td>\n",
              "      <td>2.941685</td>\n",
              "    </tr>\n",
              "    <tr>\n",
              "      <th>3</th>\n",
              "      <td>0.002208</td>\n",
              "      <td>0.049443</td>\n",
              "      <td>-0.906790</td>\n",
              "      <td>-0.272301</td>\n",
              "      <td>2.603155</td>\n",
              "    </tr>\n",
              "    <tr>\n",
              "      <th>4</th>\n",
              "      <td>0.002944</td>\n",
              "      <td>-0.289088</td>\n",
              "      <td>-0.568259</td>\n",
              "      <td>-0.986978</td>\n",
              "      <td>1.361874</td>\n",
              "    </tr>\n",
              "    <tr>\n",
              "      <th>...</th>\n",
              "      <td>...</td>\n",
              "      <td>...</td>\n",
              "      <td>...</td>\n",
              "      <td>...</td>\n",
              "      <td>...</td>\n",
              "    </tr>\n",
              "    <tr>\n",
              "      <th>190213</th>\n",
              "      <td>139.996768</td>\n",
              "      <td>-1.156354</td>\n",
              "      <td>-2.696750</td>\n",
              "      <td>0.844491</td>\n",
              "      <td>-2.109427</td>\n",
              "    </tr>\n",
              "    <tr>\n",
              "      <th>190214</th>\n",
              "      <td>139.997504</td>\n",
              "      <td>-0.930666</td>\n",
              "      <td>-1.380241</td>\n",
              "      <td>0.919720</td>\n",
              "      <td>-2.222270</td>\n",
              "    </tr>\n",
              "    <tr>\n",
              "      <th>190215</th>\n",
              "      <td>139.998240</td>\n",
              "      <td>-0.554521</td>\n",
              "      <td>-2.132532</td>\n",
              "      <td>0.731647</td>\n",
              "      <td>-2.109427</td>\n",
              "    </tr>\n",
              "    <tr>\n",
              "      <th>190216</th>\n",
              "      <td>139.998976</td>\n",
              "      <td>-1.419655</td>\n",
              "      <td>-2.433448</td>\n",
              "      <td>1.183022</td>\n",
              "      <td>-3.087405</td>\n",
              "    </tr>\n",
              "    <tr>\n",
              "      <th>190217</th>\n",
              "      <td>139.999712</td>\n",
              "      <td>-0.441677</td>\n",
              "      <td>-2.245376</td>\n",
              "      <td>1.333480</td>\n",
              "      <td>-2.184656</td>\n",
              "    </tr>\n",
              "  </tbody>\n",
              "</table>\n",
              "<p>190218 rows × 5 columns</p>\n",
              "</div>\n",
              "    <div class=\"colab-df-buttons\">\n",
              "\n",
              "  <div class=\"colab-df-container\">\n",
              "    <button class=\"colab-df-convert\" onclick=\"convertToInteractive('df-497512b7-af18-4970-abf4-1ef66aaec09c')\"\n",
              "            title=\"Convert this dataframe to an interactive table.\"\n",
              "            style=\"display:none;\">\n",
              "\n",
              "  <svg xmlns=\"http://www.w3.org/2000/svg\" height=\"24px\" viewBox=\"0 -960 960 960\">\n",
              "    <path d=\"M120-120v-720h720v720H120Zm60-500h600v-160H180v160Zm220 220h160v-160H400v160Zm0 220h160v-160H400v160ZM180-400h160v-160H180v160Zm440 0h160v-160H620v160ZM180-180h160v-160H180v160Zm440 0h160v-160H620v160Z\"/>\n",
              "  </svg>\n",
              "    </button>\n",
              "\n",
              "  <style>\n",
              "    .colab-df-container {\n",
              "      display:flex;\n",
              "      gap: 12px;\n",
              "    }\n",
              "\n",
              "    .colab-df-convert {\n",
              "      background-color: #E8F0FE;\n",
              "      border: none;\n",
              "      border-radius: 50%;\n",
              "      cursor: pointer;\n",
              "      display: none;\n",
              "      fill: #1967D2;\n",
              "      height: 32px;\n",
              "      padding: 0 0 0 0;\n",
              "      width: 32px;\n",
              "    }\n",
              "\n",
              "    .colab-df-convert:hover {\n",
              "      background-color: #E2EBFA;\n",
              "      box-shadow: 0px 1px 2px rgba(60, 64, 67, 0.3), 0px 1px 3px 1px rgba(60, 64, 67, 0.15);\n",
              "      fill: #174EA6;\n",
              "    }\n",
              "\n",
              "    .colab-df-buttons div {\n",
              "      margin-bottom: 4px;\n",
              "    }\n",
              "\n",
              "    [theme=dark] .colab-df-convert {\n",
              "      background-color: #3B4455;\n",
              "      fill: #D2E3FC;\n",
              "    }\n",
              "\n",
              "    [theme=dark] .colab-df-convert:hover {\n",
              "      background-color: #434B5C;\n",
              "      box-shadow: 0px 1px 3px 1px rgba(0, 0, 0, 0.15);\n",
              "      filter: drop-shadow(0px 1px 2px rgba(0, 0, 0, 0.3));\n",
              "      fill: #FFFFFF;\n",
              "    }\n",
              "  </style>\n",
              "\n",
              "    <script>\n",
              "      const buttonEl =\n",
              "        document.querySelector('#df-497512b7-af18-4970-abf4-1ef66aaec09c button.colab-df-convert');\n",
              "      buttonEl.style.display =\n",
              "        google.colab.kernel.accessAllowed ? 'block' : 'none';\n",
              "\n",
              "      async function convertToInteractive(key) {\n",
              "        const element = document.querySelector('#df-497512b7-af18-4970-abf4-1ef66aaec09c');\n",
              "        const dataTable =\n",
              "          await google.colab.kernel.invokeFunction('convertToInteractive',\n",
              "                                                    [key], {});\n",
              "        if (!dataTable) return;\n",
              "\n",
              "        const docLinkHtml = 'Like what you see? Visit the ' +\n",
              "          '<a target=\"_blank\" href=https://colab.research.google.com/notebooks/data_table.ipynb>data table notebook</a>'\n",
              "          + ' to learn more about interactive tables.';\n",
              "        element.innerHTML = '';\n",
              "        dataTable['output_type'] = 'display_data';\n",
              "        await google.colab.output.renderOutput(dataTable, element);\n",
              "        const docLink = document.createElement('div');\n",
              "        docLink.innerHTML = docLinkHtml;\n",
              "        element.appendChild(docLink);\n",
              "      }\n",
              "    </script>\n",
              "  </div>\n",
              "\n",
              "\n",
              "<div id=\"df-d643a710-4a2a-419f-84d1-d2b05e814570\">\n",
              "  <button class=\"colab-df-quickchart\" onclick=\"quickchart('df-d643a710-4a2a-419f-84d1-d2b05e814570')\"\n",
              "            title=\"Suggest charts\"\n",
              "            style=\"display:none;\">\n",
              "\n",
              "<svg xmlns=\"http://www.w3.org/2000/svg\" height=\"24px\"viewBox=\"0 0 24 24\"\n",
              "     width=\"24px\">\n",
              "    <g>\n",
              "        <path d=\"M19 3H5c-1.1 0-2 .9-2 2v14c0 1.1.9 2 2 2h14c1.1 0 2-.9 2-2V5c0-1.1-.9-2-2-2zM9 17H7v-7h2v7zm4 0h-2V7h2v10zm4 0h-2v-4h2v4z\"/>\n",
              "    </g>\n",
              "</svg>\n",
              "  </button>\n",
              "\n",
              "<style>\n",
              "  .colab-df-quickchart {\n",
              "      --bg-color: #E8F0FE;\n",
              "      --fill-color: #1967D2;\n",
              "      --hover-bg-color: #E2EBFA;\n",
              "      --hover-fill-color: #174EA6;\n",
              "      --disabled-fill-color: #AAA;\n",
              "      --disabled-bg-color: #DDD;\n",
              "  }\n",
              "\n",
              "  [theme=dark] .colab-df-quickchart {\n",
              "      --bg-color: #3B4455;\n",
              "      --fill-color: #D2E3FC;\n",
              "      --hover-bg-color: #434B5C;\n",
              "      --hover-fill-color: #FFFFFF;\n",
              "      --disabled-bg-color: #3B4455;\n",
              "      --disabled-fill-color: #666;\n",
              "  }\n",
              "\n",
              "  .colab-df-quickchart {\n",
              "    background-color: var(--bg-color);\n",
              "    border: none;\n",
              "    border-radius: 50%;\n",
              "    cursor: pointer;\n",
              "    display: none;\n",
              "    fill: var(--fill-color);\n",
              "    height: 32px;\n",
              "    padding: 0;\n",
              "    width: 32px;\n",
              "  }\n",
              "\n",
              "  .colab-df-quickchart:hover {\n",
              "    background-color: var(--hover-bg-color);\n",
              "    box-shadow: 0 1px 2px rgba(60, 64, 67, 0.3), 0 1px 3px 1px rgba(60, 64, 67, 0.15);\n",
              "    fill: var(--button-hover-fill-color);\n",
              "  }\n",
              "\n",
              "  .colab-df-quickchart-complete:disabled,\n",
              "  .colab-df-quickchart-complete:disabled:hover {\n",
              "    background-color: var(--disabled-bg-color);\n",
              "    fill: var(--disabled-fill-color);\n",
              "    box-shadow: none;\n",
              "  }\n",
              "\n",
              "  .colab-df-spinner {\n",
              "    border: 2px solid var(--fill-color);\n",
              "    border-color: transparent;\n",
              "    border-bottom-color: var(--fill-color);\n",
              "    animation:\n",
              "      spin 1s steps(1) infinite;\n",
              "  }\n",
              "\n",
              "  @keyframes spin {\n",
              "    0% {\n",
              "      border-color: transparent;\n",
              "      border-bottom-color: var(--fill-color);\n",
              "      border-left-color: var(--fill-color);\n",
              "    }\n",
              "    20% {\n",
              "      border-color: transparent;\n",
              "      border-left-color: var(--fill-color);\n",
              "      border-top-color: var(--fill-color);\n",
              "    }\n",
              "    30% {\n",
              "      border-color: transparent;\n",
              "      border-left-color: var(--fill-color);\n",
              "      border-top-color: var(--fill-color);\n",
              "      border-right-color: var(--fill-color);\n",
              "    }\n",
              "    40% {\n",
              "      border-color: transparent;\n",
              "      border-right-color: var(--fill-color);\n",
              "      border-top-color: var(--fill-color);\n",
              "    }\n",
              "    60% {\n",
              "      border-color: transparent;\n",
              "      border-right-color: var(--fill-color);\n",
              "    }\n",
              "    80% {\n",
              "      border-color: transparent;\n",
              "      border-right-color: var(--fill-color);\n",
              "      border-bottom-color: var(--fill-color);\n",
              "    }\n",
              "    90% {\n",
              "      border-color: transparent;\n",
              "      border-bottom-color: var(--fill-color);\n",
              "    }\n",
              "  }\n",
              "</style>\n",
              "\n",
              "  <script>\n",
              "    async function quickchart(key) {\n",
              "      const quickchartButtonEl =\n",
              "        document.querySelector('#' + key + ' button');\n",
              "      quickchartButtonEl.disabled = true;  // To prevent multiple clicks.\n",
              "      quickchartButtonEl.classList.add('colab-df-spinner');\n",
              "      try {\n",
              "        const charts = await google.colab.kernel.invokeFunction(\n",
              "            'suggestCharts', [key], {});\n",
              "      } catch (error) {\n",
              "        console.error('Error during call to suggestCharts:', error);\n",
              "      }\n",
              "      quickchartButtonEl.classList.remove('colab-df-spinner');\n",
              "      quickchartButtonEl.classList.add('colab-df-quickchart-complete');\n",
              "    }\n",
              "    (() => {\n",
              "      let quickchartButtonEl =\n",
              "        document.querySelector('#df-d643a710-4a2a-419f-84d1-d2b05e814570 button');\n",
              "      quickchartButtonEl.style.display =\n",
              "        google.colab.kernel.accessAllowed ? 'block' : 'none';\n",
              "    })();\n",
              "  </script>\n",
              "</div>\n",
              "\n",
              "  <div id=\"id_2bfb634f-bd58-49a5-a611-2a257e843c7d\">\n",
              "    <style>\n",
              "      .colab-df-generate {\n",
              "        background-color: #E8F0FE;\n",
              "        border: none;\n",
              "        border-radius: 50%;\n",
              "        cursor: pointer;\n",
              "        display: none;\n",
              "        fill: #1967D2;\n",
              "        height: 32px;\n",
              "        padding: 0 0 0 0;\n",
              "        width: 32px;\n",
              "      }\n",
              "\n",
              "      .colab-df-generate:hover {\n",
              "        background-color: #E2EBFA;\n",
              "        box-shadow: 0px 1px 2px rgba(60, 64, 67, 0.3), 0px 1px 3px 1px rgba(60, 64, 67, 0.15);\n",
              "        fill: #174EA6;\n",
              "      }\n",
              "\n",
              "      [theme=dark] .colab-df-generate {\n",
              "        background-color: #3B4455;\n",
              "        fill: #D2E3FC;\n",
              "      }\n",
              "\n",
              "      [theme=dark] .colab-df-generate:hover {\n",
              "        background-color: #434B5C;\n",
              "        box-shadow: 0px 1px 3px 1px rgba(0, 0, 0, 0.15);\n",
              "        filter: drop-shadow(0px 1px 2px rgba(0, 0, 0, 0.3));\n",
              "        fill: #FFFFFF;\n",
              "      }\n",
              "    </style>\n",
              "    <button class=\"colab-df-generate\" onclick=\"generateWithVariable('sensor1')\"\n",
              "            title=\"Generate code using this dataframe.\"\n",
              "            style=\"display:none;\">\n",
              "\n",
              "  <svg xmlns=\"http://www.w3.org/2000/svg\" height=\"24px\"viewBox=\"0 0 24 24\"\n",
              "       width=\"24px\">\n",
              "    <path d=\"M7,19H8.4L18.45,9,17,7.55,7,17.6ZM5,21V16.75L18.45,3.32a2,2,0,0,1,2.83,0l1.4,1.43a1.91,1.91,0,0,1,.58,1.4,1.91,1.91,0,0,1-.58,1.4L9.25,21ZM18.45,9,17,7.55Zm-12,3A5.31,5.31,0,0,0,4.9,8.1,5.31,5.31,0,0,0,1,6.5,5.31,5.31,0,0,0,4.9,4.9,5.31,5.31,0,0,0,6.5,1,5.31,5.31,0,0,0,8.1,4.9,5.31,5.31,0,0,0,12,6.5,5.46,5.46,0,0,0,6.5,12Z\"/>\n",
              "  </svg>\n",
              "    </button>\n",
              "    <script>\n",
              "      (() => {\n",
              "      const buttonEl =\n",
              "        document.querySelector('#id_2bfb634f-bd58-49a5-a611-2a257e843c7d button.colab-df-generate');\n",
              "      buttonEl.style.display =\n",
              "        google.colab.kernel.accessAllowed ? 'block' : 'none';\n",
              "\n",
              "      buttonEl.onclick = () => {\n",
              "        google.colab.notebook.generateWithVariable('sensor1');\n",
              "      }\n",
              "      })();\n",
              "    </script>\n",
              "  </div>\n",
              "\n",
              "    </div>\n",
              "  </div>\n"
            ]
          },
          "metadata": {},
          "execution_count": 4
        }
      ]
    },
    {
      "cell_type": "code",
      "source": [
        "print('sensor 1의 데이터 크기', sensor1.shape)\n",
        "print('sensor 2의 데이터 크기', sensor2.shape)\n",
        "print('sensor 3의 데이터 크기', sensor3.shape)\n",
        "print('sensor 4의 데이터 크기', sensor4.shape)"
      ],
      "metadata": {
        "colab": {
          "base_uri": "https://localhost:8080/",
          "height": 0
        },
        "id": "i8SB-5LzXVAj",
        "outputId": "0f3c543f-65fb-42eb-f99e-55f1b46f3700"
      },
      "execution_count": 5,
      "outputs": [
        {
          "output_type": "stream",
          "name": "stdout",
          "text": [
            "sensor 1의 데이터 크기 (190218, 5)\n",
            "sensor 2의 데이터 크기 (184211, 5)\n",
            "sensor 3의 데이터 크기 (196079, 5)\n",
            "sensor 4의 데이터 크기 (183969, 5)\n"
          ]
        }
      ]
    },
    {
      "cell_type": "code",
      "source": [
        "from scipy import interpolate\n",
        "x_new = np.arange(0, 140, 0.001)\n",
        "y_new1 = []; y_new2 = []; y_new3 = []; y_new4 = []\n",
        "for item in ['normal', 'type1', 'type2', 'type3']:\n",
        " f_linear1 = interpolate.interp1d(sensor1['time'], sensor1[item], kind='linear'); y_new1.append(f_linear1(x_new))\n",
        " f_linear2 = interpolate.interp1d(sensor2['time'], sensor2[item], kind='linear'); y_new2.append(f_linear2(x_new))\n",
        " f_linear3 = interpolate.interp1d(sensor3['time'], sensor3[item], kind='linear'); y_new3.append(f_linear3(x_new))\n",
        " f_linear4 = interpolate.interp1d(sensor4['time'], sensor4[item], kind='linear'); y_new4.append(f_linear4(x_new))\n",
        "\n",
        "sensor1 = pd.DataFrame(np.array(y_new1).T, columns = ['normal', 'type1', 'type2', 'type3'])\n",
        "sensor2 = pd.DataFrame(np.array(y_new2).T, columns = ['normal', 'type1', 'type2', 'type3'])\n",
        "sensor3 = pd.DataFrame(np.array(y_new3).T, columns = ['normal', 'type1', 'type2', 'type3'])\n",
        "sensor4 = pd.DataFrame(np.array(y_new4).T, columns = ['normal', 'type1', 'type2', 'type3'])"
      ],
      "metadata": {
        "id": "zDQFct65XgvV"
      },
      "execution_count": 10,
      "outputs": []
    },
    {
      "cell_type": "code",
      "source": [
        "# def interpolate_item(sensor, item):\n",
        "#     f_linear = interpolate.interp1d(sensor['time'], sensor[item], kind='linear')\n",
        "#     return f_linear(x_new)\n",
        "\n",
        "# y_new1 = []\n",
        "# for item in ['normal', 'type1', 'type2', 'type3']:\n",
        "#     y_new1.append(interpolate_item(sensor1, item))\n",
        "\n",
        "# y_new2, y_new3, y_new4 = zip(*[interpolate_item(sensor, item) for sensor, item in zip([sensor2, sensor3, sensor4], ['normal', 'type1', 'type2', 'type3'])]))\n"
      ],
      "metadata": {
        "id": "lWooLI0AYrq-"
      },
      "execution_count": null,
      "outputs": []
    },
    {
      "cell_type": "code",
      "source": [
        "sensor1\n"
      ],
      "metadata": {
        "colab": {
          "base_uri": "https://localhost:8080/",
          "height": 423
        },
        "id": "aXiUn5vaZVJe",
        "outputId": "1b72d17e-fcb6-4b6e-b7ec-2efd67c2e2d4"
      },
      "execution_count": 11,
      "outputs": [
        {
          "output_type": "execute_result",
          "data": {
            "text/plain": [
              "          normal     type1     type2     type3\n",
              "0      -0.853307 -3.464579  0.555219  3.919664\n",
              "1      -0.524588 -2.260096 -0.153734  3.713601\n",
              "2      -0.003708 -1.193805 -0.197890  2.698827\n",
              "3      -0.297674 -0.490986 -0.972668  1.338978\n",
              "4      -0.091203  0.790771 -0.913384  0.701167\n",
              "...          ...       ...       ...       ...\n",
              "139995 -1.057411 -1.389236  0.664186 -1.498190\n",
              "139996 -0.513635 -1.368793  1.050553 -0.982626\n",
              "139997 -1.085213 -2.281763  0.868204 -2.144997\n",
              "139998 -0.677177 -1.887220  0.792975 -2.146224\n",
              "139999 -1.387764 -2.427315  1.187928 -3.057968\n",
              "\n",
              "[140000 rows x 4 columns]"
            ],
            "text/html": [
              "\n",
              "  <div id=\"df-dbc85494-0681-47aa-b1e3-571b05c47d2c\" class=\"colab-df-container\">\n",
              "    <div>\n",
              "<style scoped>\n",
              "    .dataframe tbody tr th:only-of-type {\n",
              "        vertical-align: middle;\n",
              "    }\n",
              "\n",
              "    .dataframe tbody tr th {\n",
              "        vertical-align: top;\n",
              "    }\n",
              "\n",
              "    .dataframe thead th {\n",
              "        text-align: right;\n",
              "    }\n",
              "</style>\n",
              "<table border=\"1\" class=\"dataframe\">\n",
              "  <thead>\n",
              "    <tr style=\"text-align: right;\">\n",
              "      <th></th>\n",
              "      <th>normal</th>\n",
              "      <th>type1</th>\n",
              "      <th>type2</th>\n",
              "      <th>type3</th>\n",
              "    </tr>\n",
              "  </thead>\n",
              "  <tbody>\n",
              "    <tr>\n",
              "      <th>0</th>\n",
              "      <td>-0.853307</td>\n",
              "      <td>-3.464579</td>\n",
              "      <td>0.555219</td>\n",
              "      <td>3.919664</td>\n",
              "    </tr>\n",
              "    <tr>\n",
              "      <th>1</th>\n",
              "      <td>-0.524588</td>\n",
              "      <td>-2.260096</td>\n",
              "      <td>-0.153734</td>\n",
              "      <td>3.713601</td>\n",
              "    </tr>\n",
              "    <tr>\n",
              "      <th>2</th>\n",
              "      <td>-0.003708</td>\n",
              "      <td>-1.193805</td>\n",
              "      <td>-0.197890</td>\n",
              "      <td>2.698827</td>\n",
              "    </tr>\n",
              "    <tr>\n",
              "      <th>3</th>\n",
              "      <td>-0.297674</td>\n",
              "      <td>-0.490986</td>\n",
              "      <td>-0.972668</td>\n",
              "      <td>1.338978</td>\n",
              "    </tr>\n",
              "    <tr>\n",
              "      <th>4</th>\n",
              "      <td>-0.091203</td>\n",
              "      <td>0.790771</td>\n",
              "      <td>-0.913384</td>\n",
              "      <td>0.701167</td>\n",
              "    </tr>\n",
              "    <tr>\n",
              "      <th>...</th>\n",
              "      <td>...</td>\n",
              "      <td>...</td>\n",
              "      <td>...</td>\n",
              "      <td>...</td>\n",
              "    </tr>\n",
              "    <tr>\n",
              "      <th>139995</th>\n",
              "      <td>-1.057411</td>\n",
              "      <td>-1.389236</td>\n",
              "      <td>0.664186</td>\n",
              "      <td>-1.498190</td>\n",
              "    </tr>\n",
              "    <tr>\n",
              "      <th>139996</th>\n",
              "      <td>-0.513635</td>\n",
              "      <td>-1.368793</td>\n",
              "      <td>1.050553</td>\n",
              "      <td>-0.982626</td>\n",
              "    </tr>\n",
              "    <tr>\n",
              "      <th>139997</th>\n",
              "      <td>-1.085213</td>\n",
              "      <td>-2.281763</td>\n",
              "      <td>0.868204</td>\n",
              "      <td>-2.144997</td>\n",
              "    </tr>\n",
              "    <tr>\n",
              "      <th>139998</th>\n",
              "      <td>-0.677177</td>\n",
              "      <td>-1.887220</td>\n",
              "      <td>0.792975</td>\n",
              "      <td>-2.146224</td>\n",
              "    </tr>\n",
              "    <tr>\n",
              "      <th>139999</th>\n",
              "      <td>-1.387764</td>\n",
              "      <td>-2.427315</td>\n",
              "      <td>1.187928</td>\n",
              "      <td>-3.057968</td>\n",
              "    </tr>\n",
              "  </tbody>\n",
              "</table>\n",
              "<p>140000 rows × 4 columns</p>\n",
              "</div>\n",
              "    <div class=\"colab-df-buttons\">\n",
              "\n",
              "  <div class=\"colab-df-container\">\n",
              "    <button class=\"colab-df-convert\" onclick=\"convertToInteractive('df-dbc85494-0681-47aa-b1e3-571b05c47d2c')\"\n",
              "            title=\"Convert this dataframe to an interactive table.\"\n",
              "            style=\"display:none;\">\n",
              "\n",
              "  <svg xmlns=\"http://www.w3.org/2000/svg\" height=\"24px\" viewBox=\"0 -960 960 960\">\n",
              "    <path d=\"M120-120v-720h720v720H120Zm60-500h600v-160H180v160Zm220 220h160v-160H400v160Zm0 220h160v-160H400v160ZM180-400h160v-160H180v160Zm440 0h160v-160H620v160ZM180-180h160v-160H180v160Zm440 0h160v-160H620v160Z\"/>\n",
              "  </svg>\n",
              "    </button>\n",
              "\n",
              "  <style>\n",
              "    .colab-df-container {\n",
              "      display:flex;\n",
              "      gap: 12px;\n",
              "    }\n",
              "\n",
              "    .colab-df-convert {\n",
              "      background-color: #E8F0FE;\n",
              "      border: none;\n",
              "      border-radius: 50%;\n",
              "      cursor: pointer;\n",
              "      display: none;\n",
              "      fill: #1967D2;\n",
              "      height: 32px;\n",
              "      padding: 0 0 0 0;\n",
              "      width: 32px;\n",
              "    }\n",
              "\n",
              "    .colab-df-convert:hover {\n",
              "      background-color: #E2EBFA;\n",
              "      box-shadow: 0px 1px 2px rgba(60, 64, 67, 0.3), 0px 1px 3px 1px rgba(60, 64, 67, 0.15);\n",
              "      fill: #174EA6;\n",
              "    }\n",
              "\n",
              "    .colab-df-buttons div {\n",
              "      margin-bottom: 4px;\n",
              "    }\n",
              "\n",
              "    [theme=dark] .colab-df-convert {\n",
              "      background-color: #3B4455;\n",
              "      fill: #D2E3FC;\n",
              "    }\n",
              "\n",
              "    [theme=dark] .colab-df-convert:hover {\n",
              "      background-color: #434B5C;\n",
              "      box-shadow: 0px 1px 3px 1px rgba(0, 0, 0, 0.15);\n",
              "      filter: drop-shadow(0px 1px 2px rgba(0, 0, 0, 0.3));\n",
              "      fill: #FFFFFF;\n",
              "    }\n",
              "  </style>\n",
              "\n",
              "    <script>\n",
              "      const buttonEl =\n",
              "        document.querySelector('#df-dbc85494-0681-47aa-b1e3-571b05c47d2c button.colab-df-convert');\n",
              "      buttonEl.style.display =\n",
              "        google.colab.kernel.accessAllowed ? 'block' : 'none';\n",
              "\n",
              "      async function convertToInteractive(key) {\n",
              "        const element = document.querySelector('#df-dbc85494-0681-47aa-b1e3-571b05c47d2c');\n",
              "        const dataTable =\n",
              "          await google.colab.kernel.invokeFunction('convertToInteractive',\n",
              "                                                    [key], {});\n",
              "        if (!dataTable) return;\n",
              "\n",
              "        const docLinkHtml = 'Like what you see? Visit the ' +\n",
              "          '<a target=\"_blank\" href=https://colab.research.google.com/notebooks/data_table.ipynb>data table notebook</a>'\n",
              "          + ' to learn more about interactive tables.';\n",
              "        element.innerHTML = '';\n",
              "        dataTable['output_type'] = 'display_data';\n",
              "        await google.colab.output.renderOutput(dataTable, element);\n",
              "        const docLink = document.createElement('div');\n",
              "        docLink.innerHTML = docLinkHtml;\n",
              "        element.appendChild(docLink);\n",
              "      }\n",
              "    </script>\n",
              "  </div>\n",
              "\n",
              "\n",
              "<div id=\"df-269a7c1a-ac99-4fb9-9109-b3deb0d025cc\">\n",
              "  <button class=\"colab-df-quickchart\" onclick=\"quickchart('df-269a7c1a-ac99-4fb9-9109-b3deb0d025cc')\"\n",
              "            title=\"Suggest charts\"\n",
              "            style=\"display:none;\">\n",
              "\n",
              "<svg xmlns=\"http://www.w3.org/2000/svg\" height=\"24px\"viewBox=\"0 0 24 24\"\n",
              "     width=\"24px\">\n",
              "    <g>\n",
              "        <path d=\"M19 3H5c-1.1 0-2 .9-2 2v14c0 1.1.9 2 2 2h14c1.1 0 2-.9 2-2V5c0-1.1-.9-2-2-2zM9 17H7v-7h2v7zm4 0h-2V7h2v10zm4 0h-2v-4h2v4z\"/>\n",
              "    </g>\n",
              "</svg>\n",
              "  </button>\n",
              "\n",
              "<style>\n",
              "  .colab-df-quickchart {\n",
              "      --bg-color: #E8F0FE;\n",
              "      --fill-color: #1967D2;\n",
              "      --hover-bg-color: #E2EBFA;\n",
              "      --hover-fill-color: #174EA6;\n",
              "      --disabled-fill-color: #AAA;\n",
              "      --disabled-bg-color: #DDD;\n",
              "  }\n",
              "\n",
              "  [theme=dark] .colab-df-quickchart {\n",
              "      --bg-color: #3B4455;\n",
              "      --fill-color: #D2E3FC;\n",
              "      --hover-bg-color: #434B5C;\n",
              "      --hover-fill-color: #FFFFFF;\n",
              "      --disabled-bg-color: #3B4455;\n",
              "      --disabled-fill-color: #666;\n",
              "  }\n",
              "\n",
              "  .colab-df-quickchart {\n",
              "    background-color: var(--bg-color);\n",
              "    border: none;\n",
              "    border-radius: 50%;\n",
              "    cursor: pointer;\n",
              "    display: none;\n",
              "    fill: var(--fill-color);\n",
              "    height: 32px;\n",
              "    padding: 0;\n",
              "    width: 32px;\n",
              "  }\n",
              "\n",
              "  .colab-df-quickchart:hover {\n",
              "    background-color: var(--hover-bg-color);\n",
              "    box-shadow: 0 1px 2px rgba(60, 64, 67, 0.3), 0 1px 3px 1px rgba(60, 64, 67, 0.15);\n",
              "    fill: var(--button-hover-fill-color);\n",
              "  }\n",
              "\n",
              "  .colab-df-quickchart-complete:disabled,\n",
              "  .colab-df-quickchart-complete:disabled:hover {\n",
              "    background-color: var(--disabled-bg-color);\n",
              "    fill: var(--disabled-fill-color);\n",
              "    box-shadow: none;\n",
              "  }\n",
              "\n",
              "  .colab-df-spinner {\n",
              "    border: 2px solid var(--fill-color);\n",
              "    border-color: transparent;\n",
              "    border-bottom-color: var(--fill-color);\n",
              "    animation:\n",
              "      spin 1s steps(1) infinite;\n",
              "  }\n",
              "\n",
              "  @keyframes spin {\n",
              "    0% {\n",
              "      border-color: transparent;\n",
              "      border-bottom-color: var(--fill-color);\n",
              "      border-left-color: var(--fill-color);\n",
              "    }\n",
              "    20% {\n",
              "      border-color: transparent;\n",
              "      border-left-color: var(--fill-color);\n",
              "      border-top-color: var(--fill-color);\n",
              "    }\n",
              "    30% {\n",
              "      border-color: transparent;\n",
              "      border-left-color: var(--fill-color);\n",
              "      border-top-color: var(--fill-color);\n",
              "      border-right-color: var(--fill-color);\n",
              "    }\n",
              "    40% {\n",
              "      border-color: transparent;\n",
              "      border-right-color: var(--fill-color);\n",
              "      border-top-color: var(--fill-color);\n",
              "    }\n",
              "    60% {\n",
              "      border-color: transparent;\n",
              "      border-right-color: var(--fill-color);\n",
              "    }\n",
              "    80% {\n",
              "      border-color: transparent;\n",
              "      border-right-color: var(--fill-color);\n",
              "      border-bottom-color: var(--fill-color);\n",
              "    }\n",
              "    90% {\n",
              "      border-color: transparent;\n",
              "      border-bottom-color: var(--fill-color);\n",
              "    }\n",
              "  }\n",
              "</style>\n",
              "\n",
              "  <script>\n",
              "    async function quickchart(key) {\n",
              "      const quickchartButtonEl =\n",
              "        document.querySelector('#' + key + ' button');\n",
              "      quickchartButtonEl.disabled = true;  // To prevent multiple clicks.\n",
              "      quickchartButtonEl.classList.add('colab-df-spinner');\n",
              "      try {\n",
              "        const charts = await google.colab.kernel.invokeFunction(\n",
              "            'suggestCharts', [key], {});\n",
              "      } catch (error) {\n",
              "        console.error('Error during call to suggestCharts:', error);\n",
              "      }\n",
              "      quickchartButtonEl.classList.remove('colab-df-spinner');\n",
              "      quickchartButtonEl.classList.add('colab-df-quickchart-complete');\n",
              "    }\n",
              "    (() => {\n",
              "      let quickchartButtonEl =\n",
              "        document.querySelector('#df-269a7c1a-ac99-4fb9-9109-b3deb0d025cc button');\n",
              "      quickchartButtonEl.style.display =\n",
              "        google.colab.kernel.accessAllowed ? 'block' : 'none';\n",
              "    })();\n",
              "  </script>\n",
              "</div>\n",
              "\n",
              "  <div id=\"id_48aa8449-c90e-419f-927e-9767409113c6\">\n",
              "    <style>\n",
              "      .colab-df-generate {\n",
              "        background-color: #E8F0FE;\n",
              "        border: none;\n",
              "        border-radius: 50%;\n",
              "        cursor: pointer;\n",
              "        display: none;\n",
              "        fill: #1967D2;\n",
              "        height: 32px;\n",
              "        padding: 0 0 0 0;\n",
              "        width: 32px;\n",
              "      }\n",
              "\n",
              "      .colab-df-generate:hover {\n",
              "        background-color: #E2EBFA;\n",
              "        box-shadow: 0px 1px 2px rgba(60, 64, 67, 0.3), 0px 1px 3px 1px rgba(60, 64, 67, 0.15);\n",
              "        fill: #174EA6;\n",
              "      }\n",
              "\n",
              "      [theme=dark] .colab-df-generate {\n",
              "        background-color: #3B4455;\n",
              "        fill: #D2E3FC;\n",
              "      }\n",
              "\n",
              "      [theme=dark] .colab-df-generate:hover {\n",
              "        background-color: #434B5C;\n",
              "        box-shadow: 0px 1px 3px 1px rgba(0, 0, 0, 0.15);\n",
              "        filter: drop-shadow(0px 1px 2px rgba(0, 0, 0, 0.3));\n",
              "        fill: #FFFFFF;\n",
              "      }\n",
              "    </style>\n",
              "    <button class=\"colab-df-generate\" onclick=\"generateWithVariable('sensor1')\"\n",
              "            title=\"Generate code using this dataframe.\"\n",
              "            style=\"display:none;\">\n",
              "\n",
              "  <svg xmlns=\"http://www.w3.org/2000/svg\" height=\"24px\"viewBox=\"0 0 24 24\"\n",
              "       width=\"24px\">\n",
              "    <path d=\"M7,19H8.4L18.45,9,17,7.55,7,17.6ZM5,21V16.75L18.45,3.32a2,2,0,0,1,2.83,0l1.4,1.43a1.91,1.91,0,0,1,.58,1.4,1.91,1.91,0,0,1-.58,1.4L9.25,21ZM18.45,9,17,7.55Zm-12,3A5.31,5.31,0,0,0,4.9,8.1,5.31,5.31,0,0,0,1,6.5,5.31,5.31,0,0,0,4.9,4.9,5.31,5.31,0,0,0,6.5,1,5.31,5.31,0,0,0,8.1,4.9,5.31,5.31,0,0,0,12,6.5,5.46,5.46,0,0,0,6.5,12Z\"/>\n",
              "  </svg>\n",
              "    </button>\n",
              "    <script>\n",
              "      (() => {\n",
              "      const buttonEl =\n",
              "        document.querySelector('#id_48aa8449-c90e-419f-927e-9767409113c6 button.colab-df-generate');\n",
              "      buttonEl.style.display =\n",
              "        google.colab.kernel.accessAllowed ? 'block' : 'none';\n",
              "\n",
              "      buttonEl.onclick = () => {\n",
              "        google.colab.notebook.generateWithVariable('sensor1');\n",
              "      }\n",
              "      })();\n",
              "    </script>\n",
              "  </div>\n",
              "\n",
              "    </div>\n",
              "  </div>\n"
            ]
          },
          "metadata": {},
          "execution_count": 11
        }
      ]
    },
    {
      "cell_type": "code",
      "source": [
        "normal_ = pd.concat([sensor1['normal'], sensor2['normal'], sensor3['normal'],\n",
        "sensor4['normal']], axis=1)\n",
        "type1_ = pd.concat([sensor1['type1'], sensor2['type1'], sensor3['type1'],\n",
        "sensor4['type1']], axis=1)\n",
        "type2_ = pd.concat([sensor1['type2'], sensor2['type2'], sensor3['type2'],\n",
        "sensor4['type2']], axis=1)\n",
        "type3_ = pd.concat([sensor1['type3'], sensor2['type3'], sensor3['type3'],\n",
        "sensor4['type3']], axis=1)\n",
        "normal_.columns = ['s1', 's2', 's3', 's4']; type1_.columns = ['s1', 's2', 's3', 's4']\n",
        "type2_.columns = ['s1', 's2', 's3', 's4']; type3_.columns = ['s1', 's2', 's3', 's4']"
      ],
      "metadata": {
        "id": "ydQcP7vuZXK2"
      },
      "execution_count": 12,
      "outputs": []
    },
    {
      "cell_type": "code",
      "source": [
        "normal_"
      ],
      "metadata": {
        "colab": {
          "base_uri": "https://localhost:8080/",
          "height": 423
        },
        "id": "663rlmaOZhtU",
        "outputId": "e8e38a2a-218d-46ff-f718-70a5d8c0d8fc"
      },
      "execution_count": 13,
      "outputs": [
        {
          "output_type": "execute_result",
          "data": {
            "text/plain": [
              "              s1        s2        s3        s4\n",
              "0      -0.853307  0.048823 -0.437626 -1.116226\n",
              "1      -0.524588 -0.029477 -0.149817 -0.659694\n",
              "2      -0.003708 -0.004751  0.280889 -0.857345\n",
              "3      -0.297674  0.009673 -0.303281 -0.685318\n",
              "4      -0.091203  0.096215 -0.320263 -0.303108\n",
              "...          ...       ...       ...       ...\n",
              "139995 -1.057411  0.587429  0.275044  0.289837\n",
              "139996 -0.513635 -0.137874 -0.045973  0.131462\n",
              "139997 -1.085213  0.002242 -0.164593 -0.087380\n",
              "139998 -0.677177 -0.308897  0.288252  1.319862\n",
              "139999 -1.387764 -0.731303  0.395425 -0.125739\n",
              "\n",
              "[140000 rows x 4 columns]"
            ],
            "text/html": [
              "\n",
              "  <div id=\"df-a2c11de7-0a40-4fd6-877c-034674a63c0f\" class=\"colab-df-container\">\n",
              "    <div>\n",
              "<style scoped>\n",
              "    .dataframe tbody tr th:only-of-type {\n",
              "        vertical-align: middle;\n",
              "    }\n",
              "\n",
              "    .dataframe tbody tr th {\n",
              "        vertical-align: top;\n",
              "    }\n",
              "\n",
              "    .dataframe thead th {\n",
              "        text-align: right;\n",
              "    }\n",
              "</style>\n",
              "<table border=\"1\" class=\"dataframe\">\n",
              "  <thead>\n",
              "    <tr style=\"text-align: right;\">\n",
              "      <th></th>\n",
              "      <th>s1</th>\n",
              "      <th>s2</th>\n",
              "      <th>s3</th>\n",
              "      <th>s4</th>\n",
              "    </tr>\n",
              "  </thead>\n",
              "  <tbody>\n",
              "    <tr>\n",
              "      <th>0</th>\n",
              "      <td>-0.853307</td>\n",
              "      <td>0.048823</td>\n",
              "      <td>-0.437626</td>\n",
              "      <td>-1.116226</td>\n",
              "    </tr>\n",
              "    <tr>\n",
              "      <th>1</th>\n",
              "      <td>-0.524588</td>\n",
              "      <td>-0.029477</td>\n",
              "      <td>-0.149817</td>\n",
              "      <td>-0.659694</td>\n",
              "    </tr>\n",
              "    <tr>\n",
              "      <th>2</th>\n",
              "      <td>-0.003708</td>\n",
              "      <td>-0.004751</td>\n",
              "      <td>0.280889</td>\n",
              "      <td>-0.857345</td>\n",
              "    </tr>\n",
              "    <tr>\n",
              "      <th>3</th>\n",
              "      <td>-0.297674</td>\n",
              "      <td>0.009673</td>\n",
              "      <td>-0.303281</td>\n",
              "      <td>-0.685318</td>\n",
              "    </tr>\n",
              "    <tr>\n",
              "      <th>4</th>\n",
              "      <td>-0.091203</td>\n",
              "      <td>0.096215</td>\n",
              "      <td>-0.320263</td>\n",
              "      <td>-0.303108</td>\n",
              "    </tr>\n",
              "    <tr>\n",
              "      <th>...</th>\n",
              "      <td>...</td>\n",
              "      <td>...</td>\n",
              "      <td>...</td>\n",
              "      <td>...</td>\n",
              "    </tr>\n",
              "    <tr>\n",
              "      <th>139995</th>\n",
              "      <td>-1.057411</td>\n",
              "      <td>0.587429</td>\n",
              "      <td>0.275044</td>\n",
              "      <td>0.289837</td>\n",
              "    </tr>\n",
              "    <tr>\n",
              "      <th>139996</th>\n",
              "      <td>-0.513635</td>\n",
              "      <td>-0.137874</td>\n",
              "      <td>-0.045973</td>\n",
              "      <td>0.131462</td>\n",
              "    </tr>\n",
              "    <tr>\n",
              "      <th>139997</th>\n",
              "      <td>-1.085213</td>\n",
              "      <td>0.002242</td>\n",
              "      <td>-0.164593</td>\n",
              "      <td>-0.087380</td>\n",
              "    </tr>\n",
              "    <tr>\n",
              "      <th>139998</th>\n",
              "      <td>-0.677177</td>\n",
              "      <td>-0.308897</td>\n",
              "      <td>0.288252</td>\n",
              "      <td>1.319862</td>\n",
              "    </tr>\n",
              "    <tr>\n",
              "      <th>139999</th>\n",
              "      <td>-1.387764</td>\n",
              "      <td>-0.731303</td>\n",
              "      <td>0.395425</td>\n",
              "      <td>-0.125739</td>\n",
              "    </tr>\n",
              "  </tbody>\n",
              "</table>\n",
              "<p>140000 rows × 4 columns</p>\n",
              "</div>\n",
              "    <div class=\"colab-df-buttons\">\n",
              "\n",
              "  <div class=\"colab-df-container\">\n",
              "    <button class=\"colab-df-convert\" onclick=\"convertToInteractive('df-a2c11de7-0a40-4fd6-877c-034674a63c0f')\"\n",
              "            title=\"Convert this dataframe to an interactive table.\"\n",
              "            style=\"display:none;\">\n",
              "\n",
              "  <svg xmlns=\"http://www.w3.org/2000/svg\" height=\"24px\" viewBox=\"0 -960 960 960\">\n",
              "    <path d=\"M120-120v-720h720v720H120Zm60-500h600v-160H180v160Zm220 220h160v-160H400v160Zm0 220h160v-160H400v160ZM180-400h160v-160H180v160Zm440 0h160v-160H620v160ZM180-180h160v-160H180v160Zm440 0h160v-160H620v160Z\"/>\n",
              "  </svg>\n",
              "    </button>\n",
              "\n",
              "  <style>\n",
              "    .colab-df-container {\n",
              "      display:flex;\n",
              "      gap: 12px;\n",
              "    }\n",
              "\n",
              "    .colab-df-convert {\n",
              "      background-color: #E8F0FE;\n",
              "      border: none;\n",
              "      border-radius: 50%;\n",
              "      cursor: pointer;\n",
              "      display: none;\n",
              "      fill: #1967D2;\n",
              "      height: 32px;\n",
              "      padding: 0 0 0 0;\n",
              "      width: 32px;\n",
              "    }\n",
              "\n",
              "    .colab-df-convert:hover {\n",
              "      background-color: #E2EBFA;\n",
              "      box-shadow: 0px 1px 2px rgba(60, 64, 67, 0.3), 0px 1px 3px 1px rgba(60, 64, 67, 0.15);\n",
              "      fill: #174EA6;\n",
              "    }\n",
              "\n",
              "    .colab-df-buttons div {\n",
              "      margin-bottom: 4px;\n",
              "    }\n",
              "\n",
              "    [theme=dark] .colab-df-convert {\n",
              "      background-color: #3B4455;\n",
              "      fill: #D2E3FC;\n",
              "    }\n",
              "\n",
              "    [theme=dark] .colab-df-convert:hover {\n",
              "      background-color: #434B5C;\n",
              "      box-shadow: 0px 1px 3px 1px rgba(0, 0, 0, 0.15);\n",
              "      filter: drop-shadow(0px 1px 2px rgba(0, 0, 0, 0.3));\n",
              "      fill: #FFFFFF;\n",
              "    }\n",
              "  </style>\n",
              "\n",
              "    <script>\n",
              "      const buttonEl =\n",
              "        document.querySelector('#df-a2c11de7-0a40-4fd6-877c-034674a63c0f button.colab-df-convert');\n",
              "      buttonEl.style.display =\n",
              "        google.colab.kernel.accessAllowed ? 'block' : 'none';\n",
              "\n",
              "      async function convertToInteractive(key) {\n",
              "        const element = document.querySelector('#df-a2c11de7-0a40-4fd6-877c-034674a63c0f');\n",
              "        const dataTable =\n",
              "          await google.colab.kernel.invokeFunction('convertToInteractive',\n",
              "                                                    [key], {});\n",
              "        if (!dataTable) return;\n",
              "\n",
              "        const docLinkHtml = 'Like what you see? Visit the ' +\n",
              "          '<a target=\"_blank\" href=https://colab.research.google.com/notebooks/data_table.ipynb>data table notebook</a>'\n",
              "          + ' to learn more about interactive tables.';\n",
              "        element.innerHTML = '';\n",
              "        dataTable['output_type'] = 'display_data';\n",
              "        await google.colab.output.renderOutput(dataTable, element);\n",
              "        const docLink = document.createElement('div');\n",
              "        docLink.innerHTML = docLinkHtml;\n",
              "        element.appendChild(docLink);\n",
              "      }\n",
              "    </script>\n",
              "  </div>\n",
              "\n",
              "\n",
              "<div id=\"df-25966d2e-d60e-42cc-9e1c-44fb93f3a2fb\">\n",
              "  <button class=\"colab-df-quickchart\" onclick=\"quickchart('df-25966d2e-d60e-42cc-9e1c-44fb93f3a2fb')\"\n",
              "            title=\"Suggest charts\"\n",
              "            style=\"display:none;\">\n",
              "\n",
              "<svg xmlns=\"http://www.w3.org/2000/svg\" height=\"24px\"viewBox=\"0 0 24 24\"\n",
              "     width=\"24px\">\n",
              "    <g>\n",
              "        <path d=\"M19 3H5c-1.1 0-2 .9-2 2v14c0 1.1.9 2 2 2h14c1.1 0 2-.9 2-2V5c0-1.1-.9-2-2-2zM9 17H7v-7h2v7zm4 0h-2V7h2v10zm4 0h-2v-4h2v4z\"/>\n",
              "    </g>\n",
              "</svg>\n",
              "  </button>\n",
              "\n",
              "<style>\n",
              "  .colab-df-quickchart {\n",
              "      --bg-color: #E8F0FE;\n",
              "      --fill-color: #1967D2;\n",
              "      --hover-bg-color: #E2EBFA;\n",
              "      --hover-fill-color: #174EA6;\n",
              "      --disabled-fill-color: #AAA;\n",
              "      --disabled-bg-color: #DDD;\n",
              "  }\n",
              "\n",
              "  [theme=dark] .colab-df-quickchart {\n",
              "      --bg-color: #3B4455;\n",
              "      --fill-color: #D2E3FC;\n",
              "      --hover-bg-color: #434B5C;\n",
              "      --hover-fill-color: #FFFFFF;\n",
              "      --disabled-bg-color: #3B4455;\n",
              "      --disabled-fill-color: #666;\n",
              "  }\n",
              "\n",
              "  .colab-df-quickchart {\n",
              "    background-color: var(--bg-color);\n",
              "    border: none;\n",
              "    border-radius: 50%;\n",
              "    cursor: pointer;\n",
              "    display: none;\n",
              "    fill: var(--fill-color);\n",
              "    height: 32px;\n",
              "    padding: 0;\n",
              "    width: 32px;\n",
              "  }\n",
              "\n",
              "  .colab-df-quickchart:hover {\n",
              "    background-color: var(--hover-bg-color);\n",
              "    box-shadow: 0 1px 2px rgba(60, 64, 67, 0.3), 0 1px 3px 1px rgba(60, 64, 67, 0.15);\n",
              "    fill: var(--button-hover-fill-color);\n",
              "  }\n",
              "\n",
              "  .colab-df-quickchart-complete:disabled,\n",
              "  .colab-df-quickchart-complete:disabled:hover {\n",
              "    background-color: var(--disabled-bg-color);\n",
              "    fill: var(--disabled-fill-color);\n",
              "    box-shadow: none;\n",
              "  }\n",
              "\n",
              "  .colab-df-spinner {\n",
              "    border: 2px solid var(--fill-color);\n",
              "    border-color: transparent;\n",
              "    border-bottom-color: var(--fill-color);\n",
              "    animation:\n",
              "      spin 1s steps(1) infinite;\n",
              "  }\n",
              "\n",
              "  @keyframes spin {\n",
              "    0% {\n",
              "      border-color: transparent;\n",
              "      border-bottom-color: var(--fill-color);\n",
              "      border-left-color: var(--fill-color);\n",
              "    }\n",
              "    20% {\n",
              "      border-color: transparent;\n",
              "      border-left-color: var(--fill-color);\n",
              "      border-top-color: var(--fill-color);\n",
              "    }\n",
              "    30% {\n",
              "      border-color: transparent;\n",
              "      border-left-color: var(--fill-color);\n",
              "      border-top-color: var(--fill-color);\n",
              "      border-right-color: var(--fill-color);\n",
              "    }\n",
              "    40% {\n",
              "      border-color: transparent;\n",
              "      border-right-color: var(--fill-color);\n",
              "      border-top-color: var(--fill-color);\n",
              "    }\n",
              "    60% {\n",
              "      border-color: transparent;\n",
              "      border-right-color: var(--fill-color);\n",
              "    }\n",
              "    80% {\n",
              "      border-color: transparent;\n",
              "      border-right-color: var(--fill-color);\n",
              "      border-bottom-color: var(--fill-color);\n",
              "    }\n",
              "    90% {\n",
              "      border-color: transparent;\n",
              "      border-bottom-color: var(--fill-color);\n",
              "    }\n",
              "  }\n",
              "</style>\n",
              "\n",
              "  <script>\n",
              "    async function quickchart(key) {\n",
              "      const quickchartButtonEl =\n",
              "        document.querySelector('#' + key + ' button');\n",
              "      quickchartButtonEl.disabled = true;  // To prevent multiple clicks.\n",
              "      quickchartButtonEl.classList.add('colab-df-spinner');\n",
              "      try {\n",
              "        const charts = await google.colab.kernel.invokeFunction(\n",
              "            'suggestCharts', [key], {});\n",
              "      } catch (error) {\n",
              "        console.error('Error during call to suggestCharts:', error);\n",
              "      }\n",
              "      quickchartButtonEl.classList.remove('colab-df-spinner');\n",
              "      quickchartButtonEl.classList.add('colab-df-quickchart-complete');\n",
              "    }\n",
              "    (() => {\n",
              "      let quickchartButtonEl =\n",
              "        document.querySelector('#df-25966d2e-d60e-42cc-9e1c-44fb93f3a2fb button');\n",
              "      quickchartButtonEl.style.display =\n",
              "        google.colab.kernel.accessAllowed ? 'block' : 'none';\n",
              "    })();\n",
              "  </script>\n",
              "</div>\n",
              "\n",
              "  <div id=\"id_8ddfcdd9-fa1c-4001-94c4-9d1729cfafcc\">\n",
              "    <style>\n",
              "      .colab-df-generate {\n",
              "        background-color: #E8F0FE;\n",
              "        border: none;\n",
              "        border-radius: 50%;\n",
              "        cursor: pointer;\n",
              "        display: none;\n",
              "        fill: #1967D2;\n",
              "        height: 32px;\n",
              "        padding: 0 0 0 0;\n",
              "        width: 32px;\n",
              "      }\n",
              "\n",
              "      .colab-df-generate:hover {\n",
              "        background-color: #E2EBFA;\n",
              "        box-shadow: 0px 1px 2px rgba(60, 64, 67, 0.3), 0px 1px 3px 1px rgba(60, 64, 67, 0.15);\n",
              "        fill: #174EA6;\n",
              "      }\n",
              "\n",
              "      [theme=dark] .colab-df-generate {\n",
              "        background-color: #3B4455;\n",
              "        fill: #D2E3FC;\n",
              "      }\n",
              "\n",
              "      [theme=dark] .colab-df-generate:hover {\n",
              "        background-color: #434B5C;\n",
              "        box-shadow: 0px 1px 3px 1px rgba(0, 0, 0, 0.15);\n",
              "        filter: drop-shadow(0px 1px 2px rgba(0, 0, 0, 0.3));\n",
              "        fill: #FFFFFF;\n",
              "      }\n",
              "    </style>\n",
              "    <button class=\"colab-df-generate\" onclick=\"generateWithVariable('normal_')\"\n",
              "            title=\"Generate code using this dataframe.\"\n",
              "            style=\"display:none;\">\n",
              "\n",
              "  <svg xmlns=\"http://www.w3.org/2000/svg\" height=\"24px\"viewBox=\"0 0 24 24\"\n",
              "       width=\"24px\">\n",
              "    <path d=\"M7,19H8.4L18.45,9,17,7.55,7,17.6ZM5,21V16.75L18.45,3.32a2,2,0,0,1,2.83,0l1.4,1.43a1.91,1.91,0,0,1,.58,1.4,1.91,1.91,0,0,1-.58,1.4L9.25,21ZM18.45,9,17,7.55Zm-12,3A5.31,5.31,0,0,0,4.9,8.1,5.31,5.31,0,0,0,1,6.5,5.31,5.31,0,0,0,4.9,4.9,5.31,5.31,0,0,0,6.5,1,5.31,5.31,0,0,0,8.1,4.9,5.31,5.31,0,0,0,12,6.5,5.46,5.46,0,0,0,6.5,12Z\"/>\n",
              "  </svg>\n",
              "    </button>\n",
              "    <script>\n",
              "      (() => {\n",
              "      const buttonEl =\n",
              "        document.querySelector('#id_8ddfcdd9-fa1c-4001-94c4-9d1729cfafcc button.colab-df-generate');\n",
              "      buttonEl.style.display =\n",
              "        google.colab.kernel.accessAllowed ? 'block' : 'none';\n",
              "\n",
              "      buttonEl.onclick = () => {\n",
              "        google.colab.notebook.generateWithVariable('normal_');\n",
              "      }\n",
              "      })();\n",
              "    </script>\n",
              "  </div>\n",
              "\n",
              "    </div>\n",
              "  </div>\n"
            ]
          },
          "metadata": {},
          "execution_count": 13
        }
      ]
    },
    {
      "cell_type": "code",
      "source": [
        "print('sensor 1의 데이터 크기', normal_.shape)\n",
        "print('sensor 2의 데이터 크기', type1_.shape)\n",
        "print('sensor 3의 데이터 크기', type2_.shape)\n",
        "print('sensor 4의 데이터 크기', type3_.shape)"
      ],
      "metadata": {
        "colab": {
          "base_uri": "https://localhost:8080/",
          "height": 0
        },
        "id": "uQZNrQDTZiy0",
        "outputId": "23a560cc-d6a9-495e-ee2e-f04bd20f5786"
      },
      "execution_count": 14,
      "outputs": [
        {
          "output_type": "stream",
          "name": "stdout",
          "text": [
            "sensor 1의 데이터 크기 (140000, 4)\n",
            "sensor 2의 데이터 크기 (140000, 4)\n",
            "sensor 3의 데이터 크기 (140000, 4)\n",
            "sensor 4의 데이터 크기 (140000, 4)\n"
          ]
        }
      ]
    },
    {
      "cell_type": "code",
      "source": [
        "#  실행되지 않는 경우, 아래 코드는 주석처리하고 넘어가도 괜찮습니다. (데이터 확인용)\n",
        "plt.figure(figsize = (10, 4))\n",
        "plt.scatter(range(0,300), normal_['s1'][:300], label=\"class = \"+str(1), marker='o', s=5)\n",
        "plt.scatter(range(0,300), type1_['s1'][:300], label=\"class = \"+str(2), marker='o', s=5)\n",
        "\n",
        "plt.legend(loc=\"lower right\")\n",
        "plt.xlabel(\"Sensor\", fontsize=15)\n",
        "plt.ylabel(\"Sensor Value\", fontsize=15)\n",
        "plt.show()\n",
        "plt.close()"
      ],
      "metadata": {
        "colab": {
          "base_uri": "https://localhost:8080/",
          "height": 394
        },
        "id": "qRdt3AHdZ2Rr",
        "outputId": "9bd278f0-dd5f-40fe-ad8d-d9e2566cd2d1"
      },
      "execution_count": 16,
      "outputs": [
        {
          "output_type": "display_data",
          "data": {
            "text/plain": [
              "<Figure size 1000x400 with 1 Axes>"
            ],
            "image/png": "[encoded data removed]"
          },
          "metadata": {}
        }
      ]
    },
    {
      "cell_type": "code",
      "source": [
        "# df.corr()\n",
        "normal_.corr()"
      ],
      "metadata": {
        "colab": {
          "base_uri": "https://localhost:8080/",
          "height": 175
        },
        "id": "Rj5qCVf9aAal",
        "outputId": "459951eb-0946-4c0a-aabd-050d84ebca6c"
      },
      "execution_count": 19,
      "outputs": [
        {
          "output_type": "execute_result",
          "data": {
            "text/plain": [
              "          s1        s2        s3        s4\n",
              "s1  1.000000 -0.007093  0.004297 -0.003377\n",
              "s2 -0.007093  1.000000 -0.002992  0.111121\n",
              "s3  0.004297 -0.002992  1.000000 -0.006434\n",
              "s4 -0.003377  0.111121 -0.006434  1.000000"
            ],
            "text/html": [
              "\n",
              "  <div id=\"df-f293ec20-099f-4f85-a922-32295eeb4b46\" class=\"colab-df-container\">\n",
              "    <div>\n",
              "<style scoped>\n",
              "    .dataframe tbody tr th:only-of-type {\n",
              "        vertical-align: middle;\n",
              "    }\n",
              "\n",
              "    .dataframe tbody tr th {\n",
              "        vertical-align: top;\n",
              "    }\n",
              "\n",
              "    .dataframe thead th {\n",
              "        text-align: right;\n",
              "    }\n",
              "</style>\n",
              "<table border=\"1\" class=\"dataframe\">\n",
              "  <thead>\n",
              "    <tr style=\"text-align: right;\">\n",
              "      <th></th>\n",
              "      <th>s1</th>\n",
              "      <th>s2</th>\n",
              "      <th>s3</th>\n",
              "      <th>s4</th>\n",
              "    </tr>\n",
              "  </thead>\n",
              "  <tbody>\n",
              "    <tr>\n",
              "      <th>s1</th>\n",
              "      <td>1.000000</td>\n",
              "      <td>-0.007093</td>\n",
              "      <td>0.004297</td>\n",
              "      <td>-0.003377</td>\n",
              "    </tr>\n",
              "    <tr>\n",
              "      <th>s2</th>\n",
              "      <td>-0.007093</td>\n",
              "      <td>1.000000</td>\n",
              "      <td>-0.002992</td>\n",
              "      <td>0.111121</td>\n",
              "    </tr>\n",
              "    <tr>\n",
              "      <th>s3</th>\n",
              "      <td>0.004297</td>\n",
              "      <td>-0.002992</td>\n",
              "      <td>1.000000</td>\n",
              "      <td>-0.006434</td>\n",
              "    </tr>\n",
              "    <tr>\n",
              "      <th>s4</th>\n",
              "      <td>-0.003377</td>\n",
              "      <td>0.111121</td>\n",
              "      <td>-0.006434</td>\n",
              "      <td>1.000000</td>\n",
              "    </tr>\n",
              "  </tbody>\n",
              "</table>\n",
              "</div>\n",
              "    <div class=\"colab-df-buttons\">\n",
              "\n",
              "  <div class=\"colab-df-container\">\n",
              "    <button class=\"colab-df-convert\" onclick=\"convertToInteractive('df-f293ec20-099f-4f85-a922-32295eeb4b46')\"\n",
              "            title=\"Convert this dataframe to an interactive table.\"\n",
              "            style=\"display:none;\">\n",
              "\n",
              "  <svg xmlns=\"http://www.w3.org/2000/svg\" height=\"24px\" viewBox=\"0 -960 960 960\">\n",
              "    <path d=\"M120-120v-720h720v720H120Zm60-500h600v-160H180v160Zm220 220h160v-160H400v160Zm0 220h160v-160H400v160ZM180-400h160v-160H180v160Zm440 0h160v-160H620v160ZM180-180h160v-160H180v160Zm440 0h160v-160H620v160Z\"/>\n",
              "  </svg>\n",
              "    </button>\n",
              "\n",
              "  <style>\n",
              "    .colab-df-container {\n",
              "      display:flex;\n",
              "      gap: 12px;\n",
              "    }\n",
              "\n",
              "    .colab-df-convert {\n",
              "      background-color: #E8F0FE;\n",
              "      border: none;\n",
              "      border-radius: 50%;\n",
              "      cursor: pointer;\n",
              "      display: none;\n",
              "      fill: #1967D2;\n",
              "      height: 32px;\n",
              "      padding: 0 0 0 0;\n",
              "      width: 32px;\n",
              "    }\n",
              "\n",
              "    .colab-df-convert:hover {\n",
              "      background-color: #E2EBFA;\n",
              "      box-shadow: 0px 1px 2px rgba(60, 64, 67, 0.3), 0px 1px 3px 1px rgba(60, 64, 67, 0.15);\n",
              "      fill: #174EA6;\n",
              "    }\n",
              "\n",
              "    .colab-df-buttons div {\n",
              "      margin-bottom: 4px;\n",
              "    }\n",
              "\n",
              "    [theme=dark] .colab-df-convert {\n",
              "      background-color: #3B4455;\n",
              "      fill: #D2E3FC;\n",
              "    }\n",
              "\n",
              "    [theme=dark] .colab-df-convert:hover {\n",
              "      background-color: #434B5C;\n",
              "      box-shadow: 0px 1px 3px 1px rgba(0, 0, 0, 0.15);\n",
              "      filter: drop-shadow(0px 1px 2px rgba(0, 0, 0, 0.3));\n",
              "      fill: #FFFFFF;\n",
              "    }\n",
              "  </style>\n",
              "\n",
              "    <script>\n",
              "      const buttonEl =\n",
              "        document.querySelector('#df-f293ec20-099f-4f85-a922-32295eeb4b46 button.colab-df-convert');\n",
              "      buttonEl.style.display =\n",
              "        google.colab.kernel.accessAllowed ? 'block' : 'none';\n",
              "\n",
              "      async function convertToInteractive(key) {\n",
              "        const element = document.querySelector('#df-f293ec20-099f-4f85-a922-32295eeb4b46');\n",
              "        const dataTable =\n",
              "          await google.colab.kernel.invokeFunction('convertToInteractive',\n",
              "                                                    [key], {});\n",
              "        if (!dataTable) return;\n",
              "\n",
              "        const docLinkHtml = 'Like what you see? Visit the ' +\n",
              "          '<a target=\"_blank\" href=https://colab.research.google.com/notebooks/data_table.ipynb>data table notebook</a>'\n",
              "          + ' to learn more about interactive tables.';\n",
              "        element.innerHTML = '';\n",
              "        dataTable['output_type'] = 'display_data';\n",
              "        await google.colab.output.renderOutput(dataTable, element);\n",
              "        const docLink = document.createElement('div');\n",
              "        docLink.innerHTML = docLinkHtml;\n",
              "        element.appendChild(docLink);\n",
              "      }\n",
              "    </script>\n",
              "  </div>\n",
              "\n",
              "\n",
              "<div id=\"df-549c2db5-f373-4ba7-a68e-2f9dae850f2c\">\n",
              "  <button class=\"colab-df-quickchart\" onclick=\"quickchart('df-549c2db5-f373-4ba7-a68e-2f9dae850f2c')\"\n",
              "            title=\"Suggest charts\"\n",
              "            style=\"display:none;\">\n",
              "\n",
              "<svg xmlns=\"http://www.w3.org/2000/svg\" height=\"24px\"viewBox=\"0 0 24 24\"\n",
              "     width=\"24px\">\n",
              "    <g>\n",
              "        <path d=\"M19 3H5c-1.1 0-2 .9-2 2v14c0 1.1.9 2 2 2h14c1.1 0 2-.9 2-2V5c0-1.1-.9-2-2-2zM9 17H7v-7h2v7zm4 0h-2V7h2v10zm4 0h-2v-4h2v4z\"/>\n",
              "    </g>\n",
              "</svg>\n",
              "  </button>\n",
              "\n",
              "<style>\n",
              "  .colab-df-quickchart {\n",
              "      --bg-color: #E8F0FE;\n",
              "      --fill-color: #1967D2;\n",
              "      --hover-bg-color: #E2EBFA;\n",
              "      --hover-fill-color: #174EA6;\n",
              "      --disabled-fill-color: #AAA;\n",
              "      --disabled-bg-color: #DDD;\n",
              "  }\n",
              "\n",
              "  [theme=dark] .colab-df-quickchart {\n",
              "      --bg-color: #3B4455;\n",
              "      --fill-color: #D2E3FC;\n",
              "      --hover-bg-color: #434B5C;\n",
              "      --hover-fill-color: #FFFFFF;\n",
              "      --disabled-bg-color: #3B4455;\n",
              "      --disabled-fill-color: #666;\n",
              "  }\n",
              "\n",
              "  .colab-df-quickchart {\n",
              "    background-color: var(--bg-color);\n",
              "    border: none;\n",
              "    border-radius: 50%;\n",
              "    cursor: pointer;\n",
              "    display: none;\n",
              "    fill: var(--fill-color);\n",
              "    height: 32px;\n",
              "    padding: 0;\n",
              "    width: 32px;\n",
              "  }\n",
              "\n",
              "  .colab-df-quickchart:hover {\n",
              "    background-color: var(--hover-bg-color);\n",
              "    box-shadow: 0 1px 2px rgba(60, 64, 67, 0.3), 0 1px 3px 1px rgba(60, 64, 67, 0.15);\n",
              "    fill: var(--button-hover-fill-color);\n",
              "  }\n",
              "\n",
              "  .colab-df-quickchart-complete:disabled,\n",
              "  .colab-df-quickchart-complete:disabled:hover {\n",
              "    background-color: var(--disabled-bg-color);\n",
              "    fill: var(--disabled-fill-color);\n",
              "    box-shadow: none;\n",
              "  }\n",
              "\n",
              "  .colab-df-spinner {\n",
              "    border: 2px solid var(--fill-color);\n",
              "    border-color: transparent;\n",
              "    border-bottom-color: var(--fill-color);\n",
              "    animation:\n",
              "      spin 1s steps(1) infinite;\n",
              "  }\n",
              "\n",
              "  @keyframes spin {\n",
              "    0% {\n",
              "      border-color: transparent;\n",
              "      border-bottom-color: var(--fill-color);\n",
              "      border-left-color: var(--fill-color);\n",
              "    }\n",
              "    20% {\n",
              "      border-color: transparent;\n",
              "      border-left-color: var(--fill-color);\n",
              "      border-top-color: var(--fill-color);\n",
              "    }\n",
              "    30% {\n",
              "      border-color: transparent;\n",
              "      border-left-color: var(--fill-color);\n",
              "      border-top-color: var(--fill-color);\n",
              "      border-right-color: var(--fill-color);\n",
              "    }\n",
              "    40% {\n",
              "      border-color: transparent;\n",
              "      border-right-color: var(--fill-color);\n",
              "      border-top-color: var(--fill-color);\n",
              "    }\n",
              "    60% {\n",
              "      border-color: transparent;\n",
              "      border-right-color: var(--fill-color);\n",
              "    }\n",
              "    80% {\n",
              "      border-color: transparent;\n",
              "      border-right-color: var(--fill-color);\n",
              "      border-bottom-color: var(--fill-color);\n",
              "    }\n",
              "    90% {\n",
              "      border-color: transparent;\n",
              "      border-bottom-color: var(--fill-color);\n",
              "    }\n",
              "  }\n",
              "</style>\n",
              "\n",
              "  <script>\n",
              "    async function quickchart(key) {\n",
              "      const quickchartButtonEl =\n",
              "        document.querySelector('#' + key + ' button');\n",
              "      quickchartButtonEl.disabled = true;  // To prevent multiple clicks.\n",
              "      quickchartButtonEl.classList.add('colab-df-spinner');\n",
              "      try {\n",
              "        const charts = await google.colab.kernel.invokeFunction(\n",
              "            'suggestCharts', [key], {});\n",
              "      } catch (error) {\n",
              "        console.error('Error during call to suggestCharts:', error);\n",
              "      }\n",
              "      quickchartButtonEl.classList.remove('colab-df-spinner');\n",
              "      quickchartButtonEl.classList.add('colab-df-quickchart-complete');\n",
              "    }\n",
              "    (() => {\n",
              "      let quickchartButtonEl =\n",
              "        document.querySelector('#df-549c2db5-f373-4ba7-a68e-2f9dae850f2c button');\n",
              "      quickchartButtonEl.style.display =\n",
              "        google.colab.kernel.accessAllowed ? 'block' : 'none';\n",
              "    })();\n",
              "  </script>\n",
              "</div>\n",
              "\n",
              "    </div>\n",
              "  </div>\n"
            ]
          },
          "metadata": {},
          "execution_count": 19
        }
      ]
    },
    {
      "cell_type": "code",
      "source": [
        "# 실행되지 않는 경우, 아래 코드는 주석처리하고 넘어가도 괜찮습니다. (데이터 확인용)\n",
        "names = ['s1','s2','s3','s4']\n",
        "cm = np.corrcoef(normal_[names].values.T)\n",
        "sns.set(font_scale=0.8)\n",
        "sns.heatmap(cm, annot=True, square=True, fmt='.2f', annot_kws={'size': 10},\n",
        "yticklabels=names, xticklabels=names, cmap=plt.cm.Blues)"
      ],
      "metadata": {
        "colab": {
          "base_uri": "https://localhost:8080/",
          "height": 455
        },
        "id": "orflX7hdaB3z",
        "outputId": "42f2c827-06f5-46e4-e5a3-966f58c9fc00"
      },
      "execution_count": 20,
      "outputs": [
        {
          "output_type": "execute_result",
          "data": {
            "text/plain": [
              "<Axes: >"
            ]
          },
          "metadata": {},
          "execution_count": 20
        },
        {
          "output_type": "display_data",
          "data": {
            "text/plain": [
              "<Figure size 640x480 with 2 Axes>"
            ],
            "image/png": "[encoded data removed]"
          },
          "metadata": {}
        }
      ]
    },
    {
      "cell_type": "markdown",
      "source": [
        "- 이러한 상관관계 분석을 통해 비교하려는 두 센서 사이의 선형 상관관계의 여부를\n",
        "확인할 수 있다. 본 가이드북에서는 일반적으로 이용되는 피어슨 상관계수로(–1, 1)\n",
        "의 값을 갖는다. 값이 1에 가까울수록 센서 간의 선형관계가 강하다고 볼 수 있으며,\n",
        "양수일 경우 정(+)의 상관관계를 음수일 경우 부(-)의 상관관계를 나타낸다. 절대값\n",
        "이 0.6보다 클 수록 강한 상관관계를 가지며, 0.3보다 작을수록 약한 상관관계를 갖\n",
        "는다. 만일 두 센서 사이에 비선형 상관관계가 있다면 이를 통해서는 확인하기 어렵\n",
        "지만, 선형적인 상관관계는 정량적으로 확인 할 수 있다."
      ],
      "metadata": {
        "id": "WuHnlGucaRoX"
      }
    },
    {
      "cell_type": "code",
      "source": [
        "M =15\n",
        "normal_s1 = np.convolve(normal_['s1'], np.ones(M), 'valid') / M; normal_s1 = normal_s1.reshape(len(normal_s1),1)\n",
        "normal_s2 = np.convolve(normal_['s2'], np.ones(M), 'valid') / M; normal_s2 = normal_s2.reshape(len(normal_s2),1)\n",
        "normal_s3 = np.convolve(normal_['s3'], np.ones(M), 'valid') / M; normal_s3 = normal_s3.reshape(len(normal_s3),1)\n",
        "normal_s4 = np.convolve(normal_['s4'], np.ones(M), 'valid') / M; normal_s4 = normal_s4.reshape(len(normal_s4),1)\n",
        "type1_s1 = np.convolve(type1_['s1'], np.ones(M), 'valid') / M; type1_s1 = type1_s1.reshape(len(type1_s1),1)\n",
        "type1_s2 = np.convolve(type1_['s2'], np.ones(M), 'valid') / M; type1_s2 = type1_s2.reshape(len(type1_s2),1)\n",
        "type1_s3 = np.convolve(type1_['s3'], np.ones(M), 'valid') / M; type1_s3 = type1_s3.reshape(len(type1_s3),1)\n",
        "type1_s4 = np.convolve(type1_['s4'], np.ones(M), 'valid') / M; type1_s4 = type1_s4.reshape(len(type1_s4),1)\n",
        "type2_s1 = np.convolve(type2_['s1'], np.ones(M), 'valid') / M; type2_s1 = type2_s1.reshape(len(type2_s1),1)\n",
        "type2_s2 = np.convolve(type2_['s2'], np.ones(M), 'valid') / M; type2_s2 = type2_s2.reshape(len(type2_s2),1)\n",
        "type2_s3 = np.convolve(type2_['s3'], np.ones(M), 'valid') / M; type2_s3 = type2_s3.reshape(len(type2_s3),1)\n",
        "type2_s4 = np.convolve(type2_['s4'], np.ones(M), 'valid') / M; type2_s4 = type2_s4.reshape(len(type2_s4),1)\n",
        "type3_s1 = np.convolve(type3_['s1'], np.ones(M), 'valid') / M; type3_s1 = type3_s1.reshape(len(type3_s1),1)\n",
        "type3_s2 = np.convolve(type3_['s2'], np.ones(M), 'valid') / M; type3_s2 = type3_s2.reshape(len(type3_s2),1)\n",
        "type3_s3 = np.convolve(type3_['s3'], np.ones(M), 'valid') / M; type3_s3 = type3_s3.reshape(len(type3_s3),1)\n",
        "type3_s4 = np.convolve(type3_['s4'], np.ones(M), 'valid') / M; type3_s4 = type3_s4.reshape(len(type3_s4),1)\n",
        "normal_temp = np.concatenate((normal_s1,normal_s2,normal_s3,normal_s4), axis =1)\n",
        "type1_temp = np.concatenate((type1_s1,type1_s2,type1_s3,type1_s4), axis =1)\n",
        "type2_temp = np.concatenate((type2_s1,type2_s2,type2_s3,type2_s4), axis =1)\n",
        "type3_temp = np.concatenate((type3_s1,type3_s2,type3_s3,type3_s4), axis =1)"
      ],
      "metadata": {
        "id": "lktrzEpfaSnN"
      },
      "execution_count": 22,
      "outputs": []
    },
    {
      "cell_type": "markdown",
      "source": [
        "np.convolve() : 1차원 신호를 입력으로 받아, 최근 M개의 측정값들의 평균을 구한\n",
        "다. 일반적으로 신호 데이터의 변동이 빠른 경우에는 M값을 작게 주고, 신호 데이터\n",
        "의 변동이 느린 경우에는 M값을 크게 준다.\n",
        "• np.concatenate() : 1차원 필터링이므로 센서별로 나눠서 필터링한 데이터를 다시\n",
        "하나로 합쳐주는 과정이다."
      ],
      "metadata": {
        "id": "WmUdzoMxalw5"
      }
    },
    {
      "cell_type": "code",
      "source": [
        "from sklearn.preprocessing import MinMaxScaler\n",
        "scaler = MinMaxScaler()\n",
        "scaler.fit(normal_)\n",
        "normal = scaler.transform(normal_temp)\n",
        "type1 = scaler.transform(type1_temp)\n",
        "type2 = scaler.transform(type2_temp)\n",
        "type3 = scaler.transform(type3_temp)"
      ],
      "metadata": {
        "colab": {
          "base_uri": "https://localhost:8080/",
          "height": 0
        },
        "id": "94wgfpxsaga7",
        "outputId": "596e68d3-47f0-4dcd-bd98-958d4cb65abf"
      },
      "execution_count": 23,
      "outputs": [
        {
          "output_type": "stream",
          "name": "stderr",
          "text": [
            "/usr/local/lib/python3.10/dist-packages/sklearn/base.py:439: UserWarning: X does not have valid feature names, but MinMaxScaler was fitted with feature names\n",
            "  warnings.warn(\n",
            "/usr/local/lib/python3.10/dist-packages/sklearn/base.py:439: UserWarning: X does not have valid feature names, but MinMaxScaler was fitted with feature names\n",
            "  warnings.warn(\n",
            "/usr/local/lib/python3.10/dist-packages/sklearn/base.py:439: UserWarning: X does not have valid feature names, but MinMaxScaler was fitted with feature names\n",
            "  warnings.warn(\n",
            "/usr/local/lib/python3.10/dist-packages/sklearn/base.py:439: UserWarning: X does not have valid feature names, but MinMaxScaler was fitted with feature names\n",
            "  warnings.warn(\n"
          ]
        }
      ]
    },
    {
      "cell_type": "markdown",
      "source": [
        "④-3. 데이터 정규화(MinMaxScaler())\n",
        "- 센서 값들은 다양한 범위의 값을 갖는다. 이렇듯 데이터의 feature scale의 차이\n",
        "가 심한 경우, AI 분석 모델 훈련 성능에 안 좋은 영향을 미칠 수 있다. 본 가이드북\n",
        "에서는 데이터 정규화를 위해 min-max normalization을 구현한 함수(sklearn.\n",
        "preprocessing-MinMaxScaler())를 사용하였다. (자세한 설명은 [분석 모델 소개전처리]에서 확인할 수 있음)\n",
        "- MinMaxScaler.fit : normal(정상 상태) data의 min, max를 구한다.\n",
        "• MinMaxScaler.transform : type 1~3(고장유형) 데이터를 normal(정상 상태)\n",
        "data의 min, max 값으로 정규화한다."
      ],
      "metadata": {
        "id": "6rItfJJfasz0"
      }
    },
    {
      "cell_type": "markdown",
      "source": [
        "[단계 ⑤] 데이터 분배(학습 / 검증 / 테스트)\n",
        "⑤-1. 전처리한 데이터 확인(2차 가공 데이터셋)\n",
        "- 선형보간, 필터링, 정규화를 완료한 데이터셋을 확인한다. 데이터가 (0, 1)로 정규화\n",
        "된 것을 확인할 수 있으며, (140000, 4) 사이즈의 데이터가 줄어든 것을 확인할 수\n",
        "있는데 이는 이동평균필터를 사용한 영향이다. 이동평균 필터의 M값을 15을 사용\n",
        "한 경우 정확한 평균 값처리를 위해 앞선 15개의 데이터로 평균을 구하므로 최종적\n",
        "으로는 최초의 9개의 데이터는 평균 계산을 위해서만 사용된다. 따라서 데이터의\n",
        "raws는 140,000-(15-1) = 139,986 이 된다."
      ],
      "metadata": {
        "id": "rh1Co-DQa0JT"
      }
    },
    {
      "cell_type": "code",
      "source": [
        "print(normal)\n",
        "print('------------------------------------------------')\n",
        "print('normal data size = ', normal.shape)"
      ],
      "metadata": {
        "colab": {
          "base_uri": "https://localhost:8080/",
          "height": 0
        },
        "id": "NzTbuDLEawlM",
        "outputId": "5258714d-3b36-40d6-9a6f-515a6acd8407"
      },
      "execution_count": 24,
      "outputs": [
        {
          "output_type": "stream",
          "name": "stdout",
          "text": [
            "[[0.57598822 0.50553898 0.56439491 0.44551164]\n",
            " [0.60960317 0.50513674 0.58169332 0.44848001]\n",
            " [0.62990663 0.5047345  0.59547186 0.46260474]\n",
            " ...\n",
            " [0.51874981 0.50106998 0.60999194 0.50715712]\n",
            " [0.49713039 0.51588928 0.6074125  0.53093987]\n",
            " [0.45708747 0.52025039 0.60349765 0.53976513]]\n",
            "------------------------------------------------\n",
            "normal data size =  (139986, 4)\n"
          ]
        }
      ]
    },
    {
      "cell_type": "markdown",
      "source": [
        "- 본 가이드북에서는 숫자 확인의 효율성을 위해 데이터의 사이즈를(100000, 4)로 조\n",
        "정하였다. 특히 정상 상태(steady state)의 데이터를 AI 분석 모델 학습에 이용하기\n",
        "위해, rotor testbed 가동 후 몇 초간(약 30초)의 데이터를 탈락시키고 이후 데이터\n",
        "를 사용한다."
      ],
      "metadata": {
        "id": "8KRyKgPDa5Vx"
      }
    },
    {
      "cell_type": "code",
      "source": [
        "normal = normal[30000:130000][:]\n",
        "type1 = type1[30000:130000][:]\n",
        "type2 = type2[30000:130000][:]\n",
        "type3 = type3[30000:130000][:]\n",
        "print(normal)\n",
        "print('------------------------------------------------')\n",
        "print('normal data size = ', normal.shape)"
      ],
      "metadata": {
        "colab": {
          "base_uri": "https://localhost:8080/",
          "height": 0
        },
        "id": "FBppB7B2a55v",
        "outputId": "4c70eca8-f42a-4f45-ee7a-3ed625a23ad9"
      },
      "execution_count": 25,
      "outputs": [
        {
          "output_type": "stream",
          "name": "stdout",
          "text": [
            "[[0.42588581 0.56360116 0.59076635 0.45259554]\n",
            " [0.39980512 0.54859132 0.57699856 0.4486034 ]\n",
            " [0.38031149 0.54190146 0.57998374 0.44726771]\n",
            " ...\n",
            " [0.48028648 0.53048363 0.62114742 0.51024851]\n",
            " [0.44818273 0.53444251 0.62103995 0.49126006]\n",
            " [0.42832757 0.5501298  0.60917718 0.47827626]]\n",
            "------------------------------------------------\n",
            "normal data size =  (100000, 4)\n"
          ]
        }
      ]
    },
    {
      "cell_type": "markdown",
      "source": [
        "⑤-2. 데이터 분배\n",
        "- 데이터 분배(학습 / 검증 / 테스트)"
      ],
      "metadata": {
        "id": "U48dh50Aa_Qd"
      }
    },
    {
      "cell_type": "code",
      "source": [
        "# 데이터 분배\n",
        "normal_train = normal[:][:60000]; normal_valid = normal[:][60000:80000]; normal_test = normal[:][80000:]\n",
        "type1_train = type1[:][:60000]; type1_valid = type1[:][60000:80000]; type1_test = type1[:][80000:]\n",
        "type2_train = type2[:][:60000]; type2_valid = type2[:][60000:80000]; type2_test = type2[:][80000:]\n",
        "type3_train = type3[:][:60000]; type3_valid = type3[:][60000:80000]; type3_test = type3[:][80000:]\n",
        "train = np.concatenate((normal_train,type1_train,type2_train,type3_train))\n",
        "valid = np.concatenate((normal_valid,type1_valid,type2_valid,type3_valid))\n",
        "test = np.concatenate((normal_test,type1_test,type2_test,type3_test))\n",
        "print(\"train data의 형태:\", train.shape)\n",
        "print(\"valid data의 형태:\", valid.shape)\n",
        "print(\" test data의 형태:\", test.shape)"
      ],
      "metadata": {
        "colab": {
          "base_uri": "https://localhost:8080/",
          "height": 0
        },
        "id": "9Ll0QwKxa_8F",
        "outputId": "f2d5e963-00e1-42dc-bff4-cb46fa351e84"
      },
      "execution_count": 27,
      "outputs": [
        {
          "output_type": "stream",
          "name": "stdout",
          "text": [
            "train data의 형태: (240000, 4)\n",
            "valid data의 형태: (80000, 4)\n",
            " test data의 형태: (80000, 4)\n"
          ]
        }
      ]
    },
    {
      "cell_type": "markdown",
      "source": [
        "- Normal, type 1~3 abnormal data를 1:1:1:1의 비율로 각각 training data,\n",
        "validation data, test data로 분배한다. 그 결과(학습 : 검증 : 테스트 = 6 : 2 : 2)\n",
        "이다. [그림 27]은 데이터의 분배 결과를 시각화한 차트이다."
      ],
      "metadata": {
        "id": "ijKrtThRbHmT"
      }
    },
    {
      "cell_type": "markdown",
      "source": [
        "⑤-3. 데이터 라벨링(np.concatenate())\n",
        "- 본 가이드북에서는 지도학습을 통해 3가지 신경망을 훈련시킨다. 따라서 각 유형별\n",
        "데이터에 순서대로 [표 14]와 같은 라벨을 부여한다. python은 0부터 시작하는 프로\n",
        "그래밍 언어이므로 0부터 순서대로 회전기계의 상태를 나타낼 수 있도록 라벨링 하\n",
        "였다."
      ],
      "metadata": {
        "id": "zCSpqJ5fbQDZ"
      }
    },
    {
      "cell_type": "code",
      "source": [
        "train_label = np.concatenate((np.full((60000,1),0), np.full((60000,1),1),\n",
        "np.full((60000,1),2), np.full((60000,1),3)))\n",
        "valid_label = np.concatenate((np.full((20000,1),0), np.full((20000,1),1),\n",
        "np.full((20000,1),2), np.full((20000,1),3)))\n",
        "test_label = np.concatenate((np.full((20000,1),0), np.full((20000,1),1),\n",
        "np.full((20000,1),2), np.full((20000,1),3)))"
      ],
      "metadata": {
        "id": "sz0RKwJcbIPG"
      },
      "execution_count": 28,
      "outputs": []
    },
    {
      "cell_type": "markdown",
      "source": [
        "- 데이터 뒤섞기(np.random.shuffle()) : AI 분석 모델이 데이터를 학습하는 과정에\n",
        "서 데이터의 순서에 의존하지 않고 임의의 데이터가 입력되는 것으로 간주하기 위\n",
        "해 라벨이 부여된 데이터를 뒤섞는다(shuffling)."
      ],
      "metadata": {
        "id": "xkY11KTdbWA1"
      }
    },
    {
      "cell_type": "code",
      "source": [
        "idx = np.arange(train.shape[0]); np.random.shuffle(idx);\n",
        "train = train[:][idx]; train_label = train_label[:][idx]\n",
        "idx_v = np.arange(valid.shape[0]); np.random.shuffle(idx_v);\n",
        "valid = valid[:][idx_v]; valid_label = valid_label[:][idx_v]\n",
        "idx_t = np.arange(test.shape[0]); np.random.shuffle(idx_t);\n",
        "test = test[:][idx_t]; test_label = test_label[:][idx_t]"
      ],
      "metadata": {
        "id": "N6XhjcpubWqK"
      },
      "execution_count": 29,
      "outputs": []
    },
    {
      "cell_type": "markdown",
      "source": [
        "⑤-4. 데이터 형태 변환(torch.from_numpy().float())\n",
        "- 본 가이드북에서 사용하는 AI 분석 모델은 pytorch의 머신러닝 모듈이다. pytorch\n",
        "의 경우 tensor 형태의 데이터를 입력으로 받기 때문에, 데이터의 형태를(torch.\n",
        "from_numpy().float()) 함수를 사용하여 array에서 tensor 형태로 변환한다."
      ],
      "metadata": {
        "id": "spR39yMbba0y"
      }
    },
    {
      "cell_type": "code",
      "source": [
        "x_train = torch.from_numpy(train).float()\n",
        "y_train = torch.from_numpy(train_label).float().T[0]\n",
        "x_valid = torch.from_numpy(valid).float()\n",
        "y_valid = torch.from_numpy(valid_label).float().T[0]\n",
        "x_test = torch.from_numpy(test).float()\n",
        "y_test = torch.from_numpy(test_label).float().T[0]\n",
        "print(\"변경 전\")\n",
        "train"
      ],
      "metadata": {
        "colab": {
          "base_uri": "https://localhost:8080/",
          "height": 0
        },
        "id": "FVslnFyBbbaP",
        "outputId": "cda69200-516c-4776-f954-2b10eaeff1c2"
      },
      "execution_count": 30,
      "outputs": [
        {
          "output_type": "stream",
          "name": "stdout",
          "text": [
            "변경 전\n"
          ]
        },
        {
          "output_type": "execute_result",
          "data": {
            "text/plain": [
              "array([[0.67059474, 0.47829448, 0.62725701, 0.46725424],\n",
              "       [0.68601505, 0.43011832, 0.62242385, 0.48898709],\n",
              "       [0.6915675 , 0.51036652, 0.58355496, 0.5053535 ],\n",
              "       ...,\n",
              "       [0.86279247, 0.70178416, 0.56113655, 0.62633987],\n",
              "       [0.09676623, 0.7248878 , 0.6103093 , 0.45393779],\n",
              "       [0.94087354, 0.68871052, 0.60475232, 0.52911915]])"
            ]
          },
          "metadata": {},
          "execution_count": 30
        }
      ]
    },
    {
      "cell_type": "code",
      "source": [
        "print(\"변경 후\")\n",
        "x_train"
      ],
      "metadata": {
        "colab": {
          "base_uri": "https://localhost:8080/",
          "height": 0
        },
        "id": "_Dx_jhnFbjA1",
        "outputId": "25b0a791-bf4b-466b-8c4d-8915b4452bfd"
      },
      "execution_count": 31,
      "outputs": [
        {
          "output_type": "stream",
          "name": "stdout",
          "text": [
            "변경 후\n"
          ]
        },
        {
          "output_type": "execute_result",
          "data": {
            "text/plain": [
              "tensor([[0.6706, 0.4783, 0.6273, 0.4673],\n",
              "        [0.6860, 0.4301, 0.6224, 0.4890],\n",
              "        [0.6916, 0.5104, 0.5836, 0.5054],\n",
              "        ...,\n",
              "        [0.8628, 0.7018, 0.5611, 0.6263],\n",
              "        [0.0968, 0.7249, 0.6103, 0.4539],\n",
              "        [0.9409, 0.6887, 0.6048, 0.5291]])"
            ]
          },
          "metadata": {},
          "execution_count": 31
        }
      ]
    },
    {
      "cell_type": "markdown",
      "source": [
        "미니배치학습이나 데이터 셔플"
      ],
      "metadata": {
        "id": "ihRmTQXzboo9"
      }
    },
    {
      "cell_type": "code",
      "source": [
        "from torch.utils.data import TensorDataset\n",
        "from torch.utils.data import DataLoader\n",
        "train = TensorDataset(x_train, y_train)\n",
        "train_dataloader = DataLoader(train, batch_size =5000, shuffle=True)\n",
        "valid = TensorDataset(x_valid, y_valid)\n",
        "valid_dataloader = DataLoader(valid, batch_size =len(x_valid), shuffle=False)\n",
        "test = TensorDataset(x_test, y_test)\n",
        "test_dataloader = DataLoader(test, batch_size =len(x_valid), shuffle=False)"
      ],
      "metadata": {
        "id": "o44ENIw2bsNe"
      },
      "execution_count": 33,
      "outputs": []
    },
    {
      "cell_type": "markdown",
      "source": [
        "• TensorDataset : 데이터 x_data와 레이블 y_data를 묶어 놓는 컨테이너이다.\n",
        "• DataLoader : TensorDataset의 결과가 전달되는데, 이를 통해 batch size나 데이\n",
        "터를 섞을지 여부 등을 결정해 준다.\n",
        "• training data의 경우 학습을 위해 batch size를 5000으로, 학습을 반복할 때마다\n",
        "데이터를 다시 섞어주기 위해 shuffle을 사용하였다.\n",
        "• validation and test data의 경우 학습의 검증과 평가에 사용되므로 따로 batch size\n",
        "지정하지 않았으며, shuffle 역시 단계 [⑤-3]에서 이미 섞어주었으므로 사용하지 않\n",
        "았다.\n",
        "본 가이드북에서는 총 3개의 AI 모델을 이용하여 회전기계의 고장유형 AI데이터셋을\n",
        "분석한다. [단계 ①~⑤]는 AI 분석 모델의 학습과 평가에 이용할 수 있도록 데이터를\n",
        "전처리하는 과정이었다면, [단계 ⑥]에서는 앞선 단계에서 구축한 데이터가 공통적으\n",
        "로 적용되는 3개의 AI 모델을 설계한다. 이후 [단계 ⑦]에서 [단계 ⑥] AI 모델을 훈련\n",
        "(학습) 시킨다. [단계 ⑧]에서는 [단계 ⑦]에서 훈련된 AI 모델을 평가하고, 결과를 분석\n",
        "한다. 아래는 코드에서 3개의 AI 모델을 구분하기 위한 색을 표시하였다."
      ],
      "metadata": {
        "id": "e7SUCnvUbw_p"
      }
    },
    {
      "cell_type": "markdown",
      "source": [
        "공통\n",
        "심층신경망(DNN)\n",
        "합성곱신경망(CNN)\n",
        "순환신경망(RNN)"
      ],
      "metadata": {
        "id": "WEZIhuRGb0jb"
      }
    },
    {
      "cell_type": "markdown",
      "source": [
        "[단계 ⑥] AI 모델 구축\n",
        "⑥-1. 심층신경망(DNN)\n",
        "- 심층신경망(DNN)은 인공신경망에서 모델 내 은닉층을 많이 늘려서 학습의 결과를\n",
        "향상시키는 방법이다. 라벨이 있는 데이터의 지도학습 분류(classification), 회귀\n",
        "(regression) 문제에서 주로 사용된다."
      ],
      "metadata": {
        "id": "wQxSPse0b3XS"
      }
    },
    {
      "cell_type": "code",
      "source": [
        "# layer를 더 늘리고 싶은 경우 주석을 제거하고 사용합니다.\n",
        "class KAMP_DNN(nn.Module):\n",
        " def __init__(self):\n",
        "    super(KAMP_DNN, self).__init__()\n",
        "    self.layer1 = nn.Linear(in_features =4, out_features =100)\n",
        "    self.layer2 = nn.Linear(in_features =100, out_features =100)\n",
        "    self.layer3 = nn.Linear(in_features =100, out_features =100)\n",
        "    self.layer4 = nn.Linear(in_features =100, out_features =4)\n",
        "\n",
        "    self.dropout = nn.Dropout(0.2)\n",
        "    self.relu = nn.ReLU()\n",
        "\n",
        " def forward(self, input):\n",
        "    out =self.layer1(input)\n",
        "    out =self.relu(out)\n",
        "    out =self.dropout(out)\n",
        "\n",
        "    out =self.layer2(out)\n",
        "    out =self.relu(out)\n",
        "    out =self.dropout(out)\n",
        "\n",
        "    out =self.layer3(out)\n",
        "    out =self.relu(out)\n",
        "    out =self.dropout(out)\n",
        "\n",
        "    out =self.layer4(out)\n",
        "    return out\n",
        "\n",
        "model_check = KAMP_DNN()\n",
        "print(model_check)"
      ],
      "metadata": {
        "colab": {
          "base_uri": "https://localhost:8080/",
          "height": 0
        },
        "id": "qyJjLsrxbuy8",
        "outputId": "fbce8de9-a1a1-44d2-a89b-cadc3818c425"
      },
      "execution_count": 35,
      "outputs": [
        {
          "output_type": "stream",
          "name": "stdout",
          "text": [
            "KAMP_DNN(\n",
            "  (layer1): Linear(in_features=4, out_features=100, bias=True)\n",
            "  (layer2): Linear(in_features=100, out_features=100, bias=True)\n",
            "  (layer3): Linear(in_features=100, out_features=100, bias=True)\n",
            "  (layer4): Linear(in_features=100, out_features=4, bias=True)\n",
            "  (dropout): Dropout(p=0.2, inplace=False)\n",
            "  (relu): ReLU()\n",
            ")\n"
          ]
        }
      ]
    },
    {
      "cell_type": "markdown",
      "source": [
        "1. KAMP_ ss는 nn.Module class를 상속한다.\n",
        "2. __init__()에서는 신경망 layer를 초기화한다.\n",
        "● nn.Linear() : 선형계층으로 weight와 bias을 사용하여 입력에 선형 변환을 적용하는 모듈\n",
        "◦in_features : 신경망으로 입력되는 size\n",
        "◦out_features : 신경망에서 출력되는 size\n",
        "42 「회전기계 고장유형 AI 데이터셋」 분석실습 가이드북\n",
        "● nn.ReLU() : ReLU 활성화함수 계층으로 비선형 활성화를 통해 모델의 입력과 출력 사이에 복\n",
        "잡한 관계(mapping)를 만든다.\n",
        "◦ 비선형 활성화는 nn.Linear로 이루어진 선형계층에 비선형성을 도입하여 신경망이 보다 복잡\n",
        "한 현상을 학습할 수 있도록 돕는다.\n",
        "● nn.Dropout() : 드롭아웃 계층으로 신경망 일부를 의도적으로 학습에서 제외함으로써 모델을\n",
        "일반화하는 역할을 한다. (과적합 방지; [그림 28] 참고)"
      ],
      "metadata": {
        "id": "P9_25gtccNub"
      }
    },
    {
      "cell_type": "markdown",
      "source": [
        "● input_size = 4 : 계측되는 sensor 값들 4개\n",
        "● ouput_size = 4 : 정상 + 고장유형 개수 4개\n",
        "● 본 가이드북에서 은닉층의 뉴런수를 100으로 하였으나, data에 따라 조절\n",
        "● layer의 개수는 데이터에 따라 조절(여기서는 2~4개의 layer 사용)\n",
        "3. forward()에서는 초기화된 layer에 입력 데이터를 전달하고 최종 출력을 얻는다."
      ],
      "metadata": {
        "id": "mQac2NbwcR9g"
      }
    },
    {
      "cell_type": "markdown",
      "source": [
        "⑥-2. 합성곱신경망(CNN)\n",
        "- 합성곱신경망(CNN)은 인공신경망의 한 종류이며, 주로 Matrix 데이터나 이미지 데\n",
        "이터에서의 특징 추출에 쓰인다."
      ],
      "metadata": {
        "id": "gd_Ptk37cVNG"
      }
    },
    {
      "cell_type": "code",
      "source": [
        "# layer를 더 늘리고 싶은 경우 주석을 제거하고 사용합니다.\n",
        "class KAMP_CNN(nn.Module):\n",
        " def __init__(self):\n",
        "  super(KAMP_CNN, self).__init__()\n",
        "  self.conv1 = nn.Sequential(\n",
        "  nn.Conv1d(in_channels=1, out_channels=100, kernel_size=2, stride=1, padding='same'),\n",
        "  nn.BatchNorm1d(100),\n",
        "  nn.ReLU(),\n",
        "  nn.MaxPool1d(kernel_size=1, stride=1),\n",
        "  nn.Dropout(p=0.2))\n",
        "\n",
        "# self.conv2 = nn.Sequential(\n",
        "# nn.Conv1d(in_channels=100, out_channels=100, kernel_size=2, stride=1, padding='same'),\n",
        "# nn.BatchNorm1d(100),\n",
        "# nn.ReLU(),\n",
        "# nn.MaxPool1d(kernel_size=1, stride=1),\n",
        "# nn.Dropout(p=0.2))\n",
        "\n",
        "# self.conv3 = nn.Sequential(\n",
        "# nn.Conv1d(in_channels=100, out_channels=100, kernel_size=2, stride=1, padding='same'),\n",
        "# nn.BatchNorm1d(100),\n",
        "# nn.ReLU(),\n",
        "# nn.MaxPool1d(kernel_size=1, stride=1),\n",
        "# nn.Dropout(p=0.2))\n",
        "\n",
        "  self.conv4 = nn.Sequential(\n",
        "  nn.Conv1d(in_channels=100, out_channels=4, kernel_size=2, stride=1, padding='same'),\n",
        "  nn.BatchNorm1d(4),\n",
        "  nn.ReLU(),\n",
        "  nn.MaxPool1d(kernel_size=1, stride=1))\n",
        "\n",
        "  self.final_pool = nn.AdaptiveAvgPool1d(1)\n",
        "  self.linear = nn.Linear(4, 4)\n",
        " def forward(self, input):\n",
        "  input = input.unsqueeze(1)\n",
        "  out =self.conv1(input)\n",
        "# out = self.conv2(out)\n",
        "# out = self.conv3(out)\n",
        "  out =self.conv4(out)\n",
        "  out =self.final_pool(out)\n",
        "  out =self.linear(out.squeeze(-1))\n",
        "  return out\n",
        "model_check = KAMP_CNN()\n",
        "print(model_check)"
      ],
      "metadata": {
        "colab": {
          "base_uri": "https://localhost:8080/",
          "height": 0
        },
        "id": "nfNke2QYb8Ok",
        "outputId": "8268c029-0649-4eef-908c-8badd3bc1d4d"
      },
      "execution_count": 37,
      "outputs": [
        {
          "output_type": "stream",
          "name": "stdout",
          "text": [
            "KAMP_CNN(\n",
            "  (conv1): Sequential(\n",
            "    (0): Conv1d(1, 100, kernel_size=(2,), stride=(1,), padding=same)\n",
            "    (1): BatchNorm1d(100, eps=1e-05, momentum=0.1, affine=True, track_running_stats=True)\n",
            "    (2): ReLU()\n",
            "    (3): MaxPool1d(kernel_size=1, stride=1, padding=0, dilation=1, ceil_mode=False)\n",
            "    (4): Dropout(p=0.2, inplace=False)\n",
            "  )\n",
            "  (conv4): Sequential(\n",
            "    (0): Conv1d(100, 4, kernel_size=(2,), stride=(1,), padding=same)\n",
            "    (1): BatchNorm1d(4, eps=1e-05, momentum=0.1, affine=True, track_running_stats=True)\n",
            "    (2): ReLU()\n",
            "    (3): MaxPool1d(kernel_size=1, stride=1, padding=0, dilation=1, ceil_mode=False)\n",
            "  )\n",
            "  (final_pool): AdaptiveAvgPool1d(output_size=1)\n",
            "  (linear): Linear(in_features=4, out_features=4, bias=True)\n",
            ")\n"
          ]
        }
      ]
    },
    {
      "cell_type": "markdown",
      "source": [
        "1. KAMP_CNN을 구현하는 class는 nn.Module class를 상속한다.\n",
        "2. __init__()에서는 신경망 layer를 초기화한다.\n",
        "● nn.Sequential() : 계층이 순차적으로 실행되도록 담는 sequential container로서 연산순서를\n",
        "원하는 데로 다음 계층으로 전달할 수 있다.\n",
        "◦ in_features : 신경망으로 입력되는 size\n",
        "◦ out_features : 신경망에서 출력되는 size\n",
        "● nn.Conv1d() : 1차원 합성곱 계층으로서 주로 자연어와 같은 시계열 데이터에 많이 사용된다.\n",
        "◦ 이미지처리에서 주로 사용되는 2차원 합성곱 계층은 filter가 가로와 세로로 이동하면서 연산\n",
        "한다. 반면, 1차원 합성곱 계층의 연산은 filter가 가로로만 이동하면서 output을 계산한다.\n",
        "([그림 29] 참고)"
      ],
      "metadata": {
        "id": "Om_AgIo2ctj2"
      }
    },
    {
      "cell_type": "markdown",
      "source": [
        "◦ input shape : torch.nn.conv1d()의 입력 사이즈는 [Batch size, Input channel size,\n",
        "sequence length]이다. 데이터를 학습하는 방식에 따라 입력 사이즈를 조절할 수 있으며, 본\n",
        "가이드북에서 사용한 사이즈는 다음과 같다.\n",
        "[Batch size = 80000, Input channel size = 1, sequence length = 4]"
      ],
      "metadata": {
        "id": "jH6T9D9dcvsP"
      }
    },
    {
      "cell_type": "markdown",
      "source": [
        "◦ in_channels : 신경망으로 입력되는 데이터의 channel size(컬러 이미지의 경우 첫 계층에\n",
        "서 RGB = 3을 사용)\n",
        "◦ out_channels : 신경망에서 출력되는 데이터의 channel size(본 가이드북에서는 100을 사\n",
        "용하였으나 parameter study로 조절)\n",
        "◦ kernel_size : 특징을 추출하는 filter의 size\n",
        "◦ stride : kernel(filter)이 적용될 때, 이동하는 step size(2 이상인 경우, 데이터 size가 줄어\n",
        "든다)\n",
        "◦ padding : 데이터 가장자리에 0 을 채 워 넣 는 역할(디폴트는 valid)\n",
        "{'vaild' : No padding, 'same' : Zero-padding, 혹은 다른 값}\n",
        "◦ bias : bias term의 사용 여부(디폴트는 True)\n",
        "● nn.BatchNorm1d() : Batch 차원의 정규화 계층으로 학습의 안정화에 기여한다.\n",
        "● nn.ReLU() : ReLU 활성화함수 계층으로 비선형 활성화를 통해 모델의 입력과 출력 사이에 복\n",
        "잡한 관계(mapping)를 만든다.\n",
        "◦ 비선형 활성화는 nn.Linear로 이루어진 선형계층에 비선형성을 도입하여 신경망이 보다 복잡\n",
        "한 현상을 학습할 수 있도록 돕는다.\n",
        "● nn.MaxPool1d() : sub-sampling 계층으로 데이터의 특징을 보존하면서 크기를 줄여주는 역\n",
        "할을 한다(과적합 방지).\n",
        "● nn.Dropout() : 드롭아웃 계층으로 신경망의 일부를 의도적으로 학습에서 제외함으로써 모델을\n",
        "일반화하는 역할을 한다(과적합 방지).\n",
        "● layer의 개수는 데이터에 따라 조절(여기서는 2~4개의 layer 사용)\n",
        "3. forward()에서는 초기화된 layer에 입력 데이터를 전달하고 최종 출력을 얻는다.\n",
        "- [그림 31]은 본 가이드북에서 사용한 kernel과 stride size가 합성곱 신경망에서 어\n",
        "떻게 작용하는지 시각적으로 확인하기 위한 예시를 나타내었다. (편의를 위해 out_\n",
        "channels = 4)"
      ],
      "metadata": {
        "id": "Lc8Tbwv2cyvr"
      }
    },
    {
      "cell_type": "code",
      "source": [
        "print('--------------------------------------------------------------------')\n",
        "input = torch.tensor([[[0.0, 6.0, 9.0, 1.0]]])\n",
        "print('\"input is same below.\"')\n",
        "print(input)\n",
        "print('--------------------------------------------------------------------')\n",
        "model = nn.Conv1d(1, 4, 2, bias =False)\n",
        "model.weight.data = torch.zeros(model.weight.data.size())\n",
        "model.weight.data[:, :, :2] =1\n",
        "print('\"kernal is same below.\"')\n",
        "print(model.weight.data)\n",
        "print('--------------------------------------------------------------------')\n",
        "output = model(input)\n",
        "print('\"output is same below (without bias).\"')\n",
        "print(output)\n",
        "print('--------------------------------------------------------------------')\n",
        "model1 = nn.Conv1d(1, 4, 2)\n",
        "model1.weight.data = torch.zeros(model1.weight.data.size())\n",
        "model1.weight.data[:, :, :2] =1\n",
        "output = model1(input)\n",
        "print('\"output is same below (with bias).\"')\n",
        "print(output)\n",
        "print('--------------------------------------------------------------------')"
      ],
      "metadata": {
        "colab": {
          "base_uri": "https://localhost:8080/",
          "height": 0
        },
        "id": "JIzqZGdecq_O",
        "outputId": "b08c956c-c7c4-4d6a-ca77-2ec515fc299d"
      },
      "execution_count": 38,
      "outputs": [
        {
          "output_type": "stream",
          "name": "stdout",
          "text": [
            "--------------------------------------------------------------------\n",
            "\"input is same below.\"\n",
            "tensor([[[0., 6., 9., 1.]]])\n",
            "--------------------------------------------------------------------\n",
            "\"kernal is same below.\"\n",
            "tensor([[[1., 1.]],\n",
            "\n",
            "        [[1., 1.]],\n",
            "\n",
            "        [[1., 1.]],\n",
            "\n",
            "        [[1., 1.]]])\n",
            "--------------------------------------------------------------------\n",
            "\"output is same below (without bias).\"\n",
            "tensor([[[ 6., 15., 10.],\n",
            "         [ 6., 15., 10.],\n",
            "         [ 6., 15., 10.],\n",
            "         [ 6., 15., 10.]]], grad_fn=<ConvolutionBackward0>)\n",
            "--------------------------------------------------------------------\n",
            "\"output is same below (with bias).\"\n",
            "tensor([[[ 6.2589, 15.2589, 10.2589],\n",
            "         [ 5.3402, 14.3402,  9.3402],\n",
            "         [ 5.4469, 14.4469,  9.4469],\n",
            "         [ 5.5272, 14.5272,  9.5272]]], grad_fn=<ConvolutionBackward0>)\n",
            "--------------------------------------------------------------------\n"
          ]
        }
      ]
    },
    {
      "cell_type": "markdown",
      "source": [
        "⑥-3. 순환신경망(RNN)\n",
        "[그림 32] RNN, LSTM, GRU 특징\n",
        "- 순환신경망(RNN, LSTM, GRU)은 과거의 학습을 가중치를 통해 현재 학습에 반영\n",
        "하는 특징이 있다. 따라서 순차적으로 변화하는 시계열(time series) 데이터의 학습\n",
        "에 탁월한 효과를 갖는다. 본 가이드북에서는 pytorch의 LSTM 모듈을 사용하였다.\n",
        "([그림 32] 참고)"
      ],
      "metadata": {
        "id": "s4M04IxLc7fe"
      }
    },
    {
      "cell_type": "code",
      "source": [
        "import torch\n",
        "import torch.nn as nn\n",
        "class KAMP_RNN(nn.Module):\n",
        " def __init__(self):\n",
        "  super(KAMP_RNN, self).__init__()\n",
        "  self.lstm = nn.LSTM(input_size =4, hidden_size =100, num_layers =2,\n",
        "batch_first=True, dropout =0.2)\n",
        "  self.fc = nn.Linear(in_features =100, out_features =4)\n",
        " def forward(self, input):\n",
        "  input = input.unsqueeze(1)\n",
        "  out, _ =self.lstm(input)\n",
        "  out = out.view(-1,100)\n",
        "  output =self.fc(out)\n",
        "  return output\n",
        "\n",
        "model_check = KAMP_RNN()\n",
        "print(model_check)"
      ],
      "metadata": {
        "colab": {
          "base_uri": "https://localhost:8080/",
          "height": 0
        },
        "id": "bme3O7u5c8KY",
        "outputId": "66f02336-5c9e-4017-c039-aeebb946d6e6"
      },
      "execution_count": 39,
      "outputs": [
        {
          "output_type": "stream",
          "name": "stdout",
          "text": [
            "KAMP_RNN(\n",
            "  (lstm): LSTM(4, 100, num_layers=2, batch_first=True, dropout=0.2)\n",
            "  (fc): Linear(in_features=100, out_features=4, bias=True)\n",
            ")\n"
          ]
        }
      ]
    },
    {
      "cell_type": "markdown",
      "source": [
        "1. KAMP_DNN을 구현하는 class는 nn.Module class를 상속한다.\n",
        "2. __init__()에서는 신경망 layer를 초기화한다.\n",
        "● nn.LSTM() : LSTM 순환신경망 계층(Long Short-Term Memory Network)으로서 주로 시\n",
        "계열 데이터 처리에 많이 사용된다.\n",
        "◦ input shape : torch.nn.LSTM의 입력 사이즈는 [Batch size, sequence length, input\n",
        "size]이며, 데이터를 학습시키는 방식에 따라 입력 사이즈를 조절할 수 있으며, 본 가이드북의\n",
        "입력 사이즈는 다음과 같다.\n",
        "input shape = [Batch size = 80000, sequence length = 1, input size = 4]"
      ],
      "metadata": {
        "id": "qJBD1xNcdIJg"
      }
    },
    {
      "cell_type": "markdown",
      "source": [
        "● input size : 신경망으로 입력되는 데이터의 특징 개수(time step 아님)\n",
        "◦ hidden size : 은닉층에서 사용할 특징 개수(적절한 값 사용)\n",
        "◦ batch_first : [batch, sequence, feature]로 input data 사용(디폴트는 False, [sequence,\n",
        "batch, feature])\n",
        "◦ num_layers : LSTM layer 개수 조절 옵션(여기서는 4개의 layer 사용)\n",
        "◦ dropout : 드롭아웃 옵션(과적합 방지, 디폴트는 0)\n",
        "● nn.Linear() : 선형계층으로 weight와 bias을 사용하여 입력에 선형 변환을 적용하는 모듈로,\n",
        "여기서는 LSTM의 fully connected layer로 사용하였다.\n",
        "◦ in_features : 신경망으로 입력되는 size\n",
        "◦ out_features : 신경망에서 출력되는 size\n",
        "3. forward()에서는 초기화된 layer에 입력 데이터를 전달하고 최종 출력을 얻는다."
      ],
      "metadata": {
        "id": "lkiuY0p2dK12"
      }
    },
    {
      "cell_type": "markdown",
      "source": [
        "[단계 ⑦] AI 모델 학습\n",
        "⑦-0. 모델 학습 코드(공통)\n",
        "[단계 ⑥]에서 구축한 3개의 AI 모델을 학습시키기 위한 공통 code는 다음과 같으며,\n",
        "‘모델 학습, 모델 검증, 학습 과정 시각화’의 3가지로 구성된다."
      ],
      "metadata": {
        "id": "basUXZBNdN1T"
      }
    },
    {
      "cell_type": "code",
      "source": [
        "def train_model(model, criterion, optimizer, num_epoch, train_dataloader, PATH):\n",
        " loss_values = []\n",
        " loss_values_v = []\n",
        " check =0; accuracy_past =0\n",
        " for epoch in range(1, num_epochs +1):\n",
        "  #---------------------- 모델 학습 ---------------------#\n",
        "  model.train()\n",
        "  batch_number =0\n",
        "  running_loss =0.0\n",
        "  for batch_idx, samples in enumerate(train_dataloader):\n",
        "    x_train, y_train = samples\n",
        "    # 변수 초기화\n",
        "    optimizer.zero_grad()\n",
        "    y_hat = model.forward(x_train)\n",
        "    loss = criterion(y_hat,y_train.long())\n",
        "    loss.backward()\n",
        "    optimizer.step()\n",
        "    running_loss += loss.item()\n",
        "    batch_number +=1\n",
        "    loss_values.append(running_loss / batch_number)\n",
        " #---------------------- 모델 검증 ---------------------#\n",
        " model.eval()\n",
        " accuracy =0.0\n",
        " total =0.0\n",
        " for batch_idx, data in enumerate(valid_dataloader):\n",
        "  x_valid, y_valid = data\n",
        "\n",
        "  v_hat = model.forward(x_valid)\n",
        "  v_loss = criterion(v_hat,y_valid.long())\n",
        "  _, predicted = torch.max(v_hat.data, 1)\n",
        "  total += y_valid.size(0)\n",
        "  accuracy += (predicted == y_valid).sum().item()\n",
        " loss_values_v.append(loss.item())\n",
        " accuracy = (accuracy / total)\n",
        " #----------------Check for early stopping---------------#\n",
        " if epoch % 1 ==0:\n",
        "  print('[Epoch {}/{}] [Train_Loss: {:.6f} /Valid_Loss: {:.6f}]'.format(epoch,num_epochs, loss.item(),v_loss.item()))\n",
        "  print('[Epoch {}/{}] [Accuracy : {:.6f}]'.format(epoch, num_epochs,accuracy))\n",
        " if accuracy_past > accuracy:\n",
        "  check +=1\n",
        " else:\n",
        "  check =0\n",
        "  accuracy_past = accuracy\n",
        " if check >50:\n",
        "  print('This is time to do early stopping')\n",
        " torch.save(model, PATH +'model.pt')\n",
        " return loss_values, loss_values_v"
      ],
      "metadata": {
        "id": "O7iRQviKdIvB"
      },
      "execution_count": 40,
      "outputs": []
    },
    {
      "cell_type": "markdown",
      "source": [
        "- train_model()의 입력 데이터\n",
        "● model : [단계 ⑥]에서 구축한 DNN, CNN, RNN 모델\n",
        "● criterion : loss 계산을 위한 함수(nn.CrossEntropyLoss())\n",
        "◦ label이 존재하는 supervised learning에서 기계학습 모델은 예측값(y_hat)이 실제값(label)\n",
        "50 「회전기계 고장유형 AI 데이터셋」 분석실습 가이드북\n",
        "에 가까워지도록 학습이 이루어진다. 이때 예측값과 실제값이 얼마나 차이가 나는지를 나타내\n",
        "는 지표로 loss를 사용한다.\n",
        "◦ pytorch에서 제공하는 loss 함수([표 15] 참고)\n",
        "nn.MSELoss - mean squared error로 loss를 계산하는 함수\n",
        "- 주로 회귀 문제에 사용되며, 분류 문제에서도 사용\n",
        "nn.CrossEntropyLoss - 이진, 다중 분류(classification) 문제를 다룰 때 사용\n",
        "- nn.SoftMax와 nn.CrossEntropyLoss의 기능을 동시에 제공\n",
        "nn.BCELoss - 이진 분류 문제에 주로 사용\n",
        "nn.BCEWithLogitsLoss - nn.Sigmoid와 nn.BCELoss의 기능을 동시에 제공\n",
        "- 두 함수를 각각 사용하는 것보다는 nn.BCEWithLogitsLoss를 사용하는 것이 안정적\n",
        "nn.NLLLoss - 분류 문제에서 특정 가중치를 사용해 데이터의 불균형을 처리할 때 사용\n",
        "[표 15] pytorch에서 제공하는 loss 함수\n",
        "◦ 본 가이드북에서 사용한 nn.CrossEntropyLoss()은 회전기계 고장유형 AI데이터 셋과 같은\n",
        "다중 분류 문제를 다룰 때 유용하다.\n",
        "● optimizer : 최적화 함수(torch.optim.Adam(model.parameters()))\n",
        "◦ 기계학습에서 네트워크 오차(loss)를 줄이고 알고리즘의 정확도를 높이기 위해 모델의 가중치\n",
        "를 변화시켜주는 역할을 한다.\n",
        "◦ pytorch에서 제공하는 optimizer 함수([표 16] 참고)\n",
        "torch.optim.SGD - loss의 미분값을 이용하여, 기울기를 따라 내려가면서 가중치를 업데이트하는\n",
        "방법\n",
        "torch.optim.AdaGrad - 학습률의 감소(learning rate decay)를 통해 학습률에 따른 학습 효율 및 정확도\n",
        "문제를 해결하는 방법\n",
        "torch.optim.RMSprop\n",
        "- AdaGrad에서 더 나아가 기울기를 단순 누적하지 않고, 지수 가중 이동평균\n",
        "(Exponentially weighted moving average)을 이용하여 최신 기울기를 더 많\n",
        "이 반영하도록 하는 방법\n",
        "torch.optim.Adam - SGD + momentum와 RMSprop의 기능을 합친 최적화 함수로 gradient를 효\n",
        "율적으로 조절(보편적으로 많이 사용됨)\n",
        "[표 16] pytorch에서 제공하는 optimizer 함수\n",
        "◦ 본 가이드북에서 사용한 torch.optim.Adam()은 SGD, momentum, RMSprop optimizer\n",
        "의 기능들을 합친 최적화 함수로 학습 방향과 스텝 사이즈를 자동으로 맞춰주기 때문에 처음\n",
        "모델을 구축할 때 사용하면 좋다.\n",
        "● num_epoch : 전체 데이터의 반복 학습 횟수\n",
        "51 「회전기계 고장유형 AI 데이터셋」 분석실습 가이드북\n",
        "● train_dataloader : [단계 ⑤]에서 구축한 전처리가 완료된 데이터\n",
        "● PATH : 학습 결과가 저장되는 위치\n",
        "- train_model()의 출력 데이터\n",
        "● loss_values : 학습 과정 확인을 위한 학습 손실 값 history\n",
        "● loss_values_v : 학습 과정 확인을 위한 검증 손실 값 history\n",
        "- 전체 프로세스는 입력한 반복 학습 횟수(epoch)만큼 진행되며 매 epoch마다 모델\n",
        "을 검증한다. 또한, 과적합 문제와 학습 효율성을 위해 학습의 중단지점을 구축해야\n",
        "한다. 따라서 가장 높았던 검증 정확도(accuracy_past)를 기준으로 정확도가 정해\n",
        "진 epoch 동안 향상되지 않으면 반복 학습을 중단하라는 메시지를 출력하도록 하\n",
        "였다. 메시지만 출력하도록 한 이유는 초기에 AI 분석 모델이 구축되면 최대 반복\n",
        "횟수까지 학습을 진행하면서 학습 추이를 확인하고 loss plot으로부터 중단지점을\n",
        "설정하기 위함이다."
      ],
      "metadata": {
        "id": "ogvaizFJd2-w"
      }
    },
    {
      "cell_type": "code",
      "source": [
        "def train_model(model, criterion, optimizer, num_epoch, train_dataloader, PATH):\n",
        " loss_values = []\n",
        " loss_values_v = []\n",
        " check =0; accuracy_past =0\n",
        " for epoch in range(1, num_epochs +1):\n",
        " #---------------------- 모델 학습 ---------------------#\n",
        "  model.train()\n",
        "  batch_number =0\n",
        "  running_loss =0.0\n",
        "  for batch_idx, samples in enumerate(train_dataloader):\n",
        "    x_train, y_train = samples\n",
        "\n",
        "    optimizer.zero_grad()\n",
        "    y_hat = model.forward(x_train)\n",
        "    loss = criterion(y_hat,y_train.long())\n",
        "    loss.backward()\n",
        "    optimizer.step()\n",
        "\n",
        "    running_loss += loss.item()\n",
        "    batch_number +=1\n",
        " loss_values.append(running_loss / batch_number)\n",
        " #------------------------------------------------------#"
      ],
      "metadata": {
        "id": "0xOprnl7d3o2"
      },
      "execution_count": 41,
      "outputs": []
    },
    {
      "cell_type": "markdown",
      "source": [
        "● model.train() : training 과정에서 사용해야 하는 layer들을 알아서 사용하도록 하는 함수이다.\n",
        "● train_dataloader : 학습데이터는 배치를 나누어 사용하게 되며, enumerate() 함수를 통해\n",
        "batch index(batch_idx)와 해당 데이터(samples)를 동시에 사용한다. 그 결과 학습에 사용되\n",
        "는 데이터는 각 배치별(x_train, y_train)이다.\n",
        "52 「회전기계 고장유형 AI 데이터셋」 분석실습 가이드북\n",
        "● optimizer.zero_grad() : 가중치 변수 초기화 함수로, pytorch는 backward 과정에서,\n",
        "gradients값들을 계속 더해주기 때문에 back propagation을 하기 전에 gradients를 zero로\n",
        "만드는 변수 초기화를 해야 한다.\n",
        "● y_hat = model.forward(x_train) : 학습 데이터를 AI 분석 모델에 입력하여 예측값(y_hat)을\n",
        "구한다.\n",
        "● loss = criterion(y_hat,y_train.long()) : AI 분석 모델의 예측값(y_hat)과 실제 라벨값(y_train)\n",
        "사이의 차이인 loss 값을 계산한다.\n",
        "● loss.backward() : loss의 역전파를 위한 함수, 모델의 파라미터와 관련된 loss의 gradients를\n",
        "계산한다.\n",
        "● optimizer.step() : 신경망의 가중치를 업데이트한다.\n",
        "● loss_values.append(running_loss / batch_number) : training loss 값을 저장한다"
      ],
      "metadata": {
        "id": "HS6mTc3seDlJ"
      }
    },
    {
      "cell_type": "code",
      "source": [
        "model.eval()"
      ],
      "metadata": {
        "colab": {
          "base_uri": "https://localhost:8080/",
          "height": 0
        },
        "id": "G2C_PEJyebvK",
        "outputId": "d71cf82f-8181-4bb9-f097-f6bfd075d0b7"
      },
      "execution_count": 44,
      "outputs": [
        {
          "output_type": "execute_result",
          "data": {
            "text/plain": [
              "Conv1d(1, 4, kernel_size=(2,), stride=(1,), bias=False)"
            ]
          },
          "metadata": {},
          "execution_count": 44
        }
      ]
    },
    {
      "cell_type": "code",
      "source": [
        "accuracy =0.0\n",
        "total =0.0"
      ],
      "metadata": {
        "id": "ngGfcf9ee0Sh"
      },
      "execution_count": 47,
      "outputs": []
    },
    {
      "cell_type": "code",
      "source": [
        "data"
      ],
      "metadata": {
        "colab": {
          "base_uri": "https://localhost:8080/",
          "height": 0
        },
        "id": "Kak04Ci6fYM6",
        "outputId": "23029dbc-a510-4629-c0b5-1d4e2c85e4ac"
      },
      "execution_count": 49,
      "outputs": [
        {
          "output_type": "execute_result",
          "data": {
            "text/plain": [
              "[tensor([[ 0.9687,  0.6922,  0.5665,  0.5728],\n",
              "         [ 0.6774,  0.5171,  0.6007,  0.4609],\n",
              "         [-0.0076,  0.4702,  0.6172,  0.5868],\n",
              "         ...,\n",
              "         [ 0.8451,  0.5073,  0.6023,  0.5620],\n",
              "         [ 0.1339,  0.3839,  0.5847,  0.4916],\n",
              "         [ 0.7692,  0.4118,  0.6140,  0.5804]]),\n",
              " tensor([3., 0., 3.,  ..., 3., 3., 1.])]"
            ]
          },
          "metadata": {},
          "execution_count": 49
        }
      ]
    },
    {
      "cell_type": "code",
      "source": [
        "valid_dataloader"
      ],
      "metadata": {
        "colab": {
          "base_uri": "https://localhost:8080/",
          "height": 0
        },
        "id": "lzpCZn-qfdMK",
        "outputId": "056cff25-ee4f-4204-f682-cf02c9964367"
      },
      "execution_count": 50,
      "outputs": [
        {
          "output_type": "execute_result",
          "data": {
            "text/plain": [
              "<torch.utils.data.dataloader.DataLoader at 0x7e1bcdd097e0>"
            ]
          },
          "metadata": {},
          "execution_count": 50
        }
      ]
    },
    {
      "cell_type": "code",
      "source": [
        "batch_idx"
      ],
      "metadata": {
        "colab": {
          "base_uri": "https://localhost:8080/",
          "height": 0
        },
        "id": "3d_ZKtedfkeO",
        "outputId": "b76cfd57-5f29-47e3-f5b5-6ddbd0ef6b8d"
      },
      "execution_count": 51,
      "outputs": [
        {
          "output_type": "execute_result",
          "data": {
            "text/plain": [
              "0"
            ]
          },
          "metadata": {},
          "execution_count": 51
        }
      ]
    },
    {
      "cell_type": "code",
      "source": [
        " x_valid.shape, y_valid.shape, v_hat.shape"
      ],
      "metadata": {
        "colab": {
          "base_uri": "https://localhost:8080/",
          "height": 183
        },
        "id": "umjJWlLxfxj-",
        "outputId": "b75c9e0f-8215-4097-8018-f2cc1271ea45"
      },
      "execution_count": 52,
      "outputs": [
        {
          "output_type": "error",
          "ename": "NameError",
          "evalue": "ignored",
          "traceback": [
            "\u001b[0;31m---------------------------------------------------------------------------\u001b[0m",
            "\u001b[0;31mNameError\u001b[0m                                 Traceback (most recent call last)",
            "\u001b[0;32m<ipython-input-52-8edabe880ace>\u001b[0m in \u001b[0;36m<cell line: 1>\u001b[0;34m()\u001b[0m\n\u001b[0;32m----> 1\u001b[0;31m \u001b[0mx_valid\u001b[0m\u001b[0;34m.\u001b[0m\u001b[0mshape\u001b[0m\u001b[0;34m,\u001b[0m \u001b[0my_valid\u001b[0m\u001b[0;34m.\u001b[0m\u001b[0mshape\u001b[0m\u001b[0;34m,\u001b[0m \u001b[0mv_hat\u001b[0m\u001b[0;34m.\u001b[0m\u001b[0mshape\u001b[0m\u001b[0;34m\u001b[0m\u001b[0;34m\u001b[0m\u001b[0m\n\u001b[0m",
            "\u001b[0;31mNameError\u001b[0m: name 'v_hat' is not defined"
          ]
        }
      ]
    },
    {
      "cell_type": "code",
      "source": [
        "#---------------------- 모델 검증 ---------------------#\n",
        "#  model.eval()\n",
        "# accuracy =0.0\n",
        "# total =0.0\n",
        "for batch_idx, data in enumerate(valid_dataloader):\n",
        "  x_valid, y_valid = data\n",
        "\n",
        "  v_hat = model.forward(x_valid)\n",
        "  v_loss = criterion(v_hat,y_valid.long())\n",
        "  _, predicted = torch.max(v_hat.data, 1)\n",
        "  total += y_valid.size(0)\n",
        "  accuracy += (predicted == y_valid).sum().item()\n",
        "# loss_values_v.append(loss.item())\n",
        "# accuracy = (accuracy / total)\n",
        " #------------------------------------------------------#"
      ],
      "metadata": {
        "colab": {
          "base_uri": "https://localhost:8080/",
          "height": 408
        },
        "id": "MQ_4sRQTeEK3",
        "outputId": "55fe4b66-0d86-4c38-ebea-83df082c6020"
      },
      "execution_count": 48,
      "outputs": [
        {
          "output_type": "error",
          "ename": "RuntimeError",
          "evalue": "ignored",
          "traceback": [
            "\u001b[0;31m---------------------------------------------------------------------------\u001b[0m",
            "\u001b[0;31mRuntimeError\u001b[0m                              Traceback (most recent call last)",
            "\u001b[0;32m<ipython-input-48-f335a0488b04>\u001b[0m in \u001b[0;36m<cell line: 5>\u001b[0;34m()\u001b[0m\n\u001b[1;32m      6\u001b[0m   \u001b[0mx_valid\u001b[0m\u001b[0;34m,\u001b[0m \u001b[0my_valid\u001b[0m \u001b[0;34m=\u001b[0m \u001b[0mdata\u001b[0m\u001b[0;34m\u001b[0m\u001b[0;34m\u001b[0m\u001b[0m\n\u001b[1;32m      7\u001b[0m \u001b[0;34m\u001b[0m\u001b[0m\n\u001b[0;32m----> 8\u001b[0;31m   \u001b[0mv_hat\u001b[0m \u001b[0;34m=\u001b[0m \u001b[0mmodel\u001b[0m\u001b[0;34m.\u001b[0m\u001b[0mforward\u001b[0m\u001b[0;34m(\u001b[0m\u001b[0mx_valid\u001b[0m\u001b[0;34m)\u001b[0m\u001b[0;34m\u001b[0m\u001b[0;34m\u001b[0m\u001b[0m\n\u001b[0m\u001b[1;32m      9\u001b[0m   \u001b[0mv_loss\u001b[0m \u001b[0;34m=\u001b[0m \u001b[0mcriterion\u001b[0m\u001b[0;34m(\u001b[0m\u001b[0mv_hat\u001b[0m\u001b[0;34m,\u001b[0m\u001b[0my_valid\u001b[0m\u001b[0;34m.\u001b[0m\u001b[0mlong\u001b[0m\u001b[0;34m(\u001b[0m\u001b[0;34m)\u001b[0m\u001b[0;34m)\u001b[0m\u001b[0;34m\u001b[0m\u001b[0;34m\u001b[0m\u001b[0m\n\u001b[1;32m     10\u001b[0m   \u001b[0m_\u001b[0m\u001b[0;34m,\u001b[0m \u001b[0mpredicted\u001b[0m \u001b[0;34m=\u001b[0m \u001b[0mtorch\u001b[0m\u001b[0;34m.\u001b[0m\u001b[0mmax\u001b[0m\u001b[0;34m(\u001b[0m\u001b[0mv_hat\u001b[0m\u001b[0;34m.\u001b[0m\u001b[0mdata\u001b[0m\u001b[0;34m,\u001b[0m \u001b[0;36m1\u001b[0m\u001b[0;34m)\u001b[0m\u001b[0;34m\u001b[0m\u001b[0;34m\u001b[0m\u001b[0m\n",
            "\u001b[0;32m/usr/local/lib/python3.10/dist-packages/torch/nn/modules/conv.py\u001b[0m in \u001b[0;36mforward\u001b[0;34m(self, input)\u001b[0m\n\u001b[1;32m    308\u001b[0m \u001b[0;34m\u001b[0m\u001b[0m\n\u001b[1;32m    309\u001b[0m     \u001b[0;32mdef\u001b[0m \u001b[0mforward\u001b[0m\u001b[0;34m(\u001b[0m\u001b[0mself\u001b[0m\u001b[0;34m,\u001b[0m \u001b[0minput\u001b[0m\u001b[0;34m:\u001b[0m \u001b[0mTensor\u001b[0m\u001b[0;34m)\u001b[0m \u001b[0;34m->\u001b[0m \u001b[0mTensor\u001b[0m\u001b[0;34m:\u001b[0m\u001b[0;34m\u001b[0m\u001b[0;34m\u001b[0m\u001b[0m\n\u001b[0;32m--> 310\u001b[0;31m         \u001b[0;32mreturn\u001b[0m \u001b[0mself\u001b[0m\u001b[0;34m.\u001b[0m\u001b[0m_conv_forward\u001b[0m\u001b[0;34m(\u001b[0m\u001b[0minput\u001b[0m\u001b[0;34m,\u001b[0m \u001b[0mself\u001b[0m\u001b[0;34m.\u001b[0m\u001b[0mweight\u001b[0m\u001b[0;34m,\u001b[0m \u001b[0mself\u001b[0m\u001b[0;34m.\u001b[0m\u001b[0mbias\u001b[0m\u001b[0;34m)\u001b[0m\u001b[0;34m\u001b[0m\u001b[0;34m\u001b[0m\u001b[0m\n\u001b[0m\u001b[1;32m    311\u001b[0m \u001b[0;34m\u001b[0m\u001b[0m\n\u001b[1;32m    312\u001b[0m \u001b[0;34m\u001b[0m\u001b[0m\n",
            "\u001b[0;32m/usr/local/lib/python3.10/dist-packages/torch/nn/modules/conv.py\u001b[0m in \u001b[0;36m_conv_forward\u001b[0;34m(self, input, weight, bias)\u001b[0m\n\u001b[1;32m    304\u001b[0m                             \u001b[0mweight\u001b[0m\u001b[0;34m,\u001b[0m \u001b[0mbias\u001b[0m\u001b[0;34m,\u001b[0m \u001b[0mself\u001b[0m\u001b[0;34m.\u001b[0m\u001b[0mstride\u001b[0m\u001b[0;34m,\u001b[0m\u001b[0;34m\u001b[0m\u001b[0;34m\u001b[0m\u001b[0m\n\u001b[1;32m    305\u001b[0m                             _single(0), self.dilation, self.groups)\n\u001b[0;32m--> 306\u001b[0;31m         return F.conv1d(input, weight, bias, self.stride,\n\u001b[0m\u001b[1;32m    307\u001b[0m                         self.padding, self.dilation, self.groups)\n\u001b[1;32m    308\u001b[0m \u001b[0;34m\u001b[0m\u001b[0m\n",
            "\u001b[0;31mRuntimeError\u001b[0m: Given groups=1, weight of size [4, 1, 2], expected input[1, 80000, 4] to have 1 channels, but got 80000 channels instead"
          ]
        }
      ]
    },
    {
      "cell_type": "code",
      "source": [
        "def train_model(model, criterion, optimizer, num_epoch, train_dataloader, PATH):\n",
        "    loss_values = []\n",
        "    loss_values_v = []\n",
        "    check =0; accuracy_past =0\n",
        "    for epoch in range(1, num_epochs +1):\n",
        " #---------------------- 모델 학습 ---------------------#\n",
        "        model.train()\n",
        "        batch_number =0\n",
        "        running_loss =0.0\n",
        "        for batch_idx, samples in enumerate(train_dataloader):\n",
        "            x_train, y_train = samples\n",
        "\n",
        "            optimizer.zero_grad()\n",
        "            y_hat = model.forward(x_train)\n",
        "            loss = criterion(y_hat,y_train.long())\n",
        "            loss.backward()\n",
        "            optimizer.step()\n",
        "\n",
        "            running_loss += loss.item()\n",
        "            batch_number +=1\n",
        "        loss_values.append(running_loss / batch_number)\n",
        " #------------------------------------------------------#\n",
        " #---------------------- 모델 검증 ---------------------#\n",
        "        model.eval()\n",
        "        accuracy =0.0\n",
        "        total =0.0\n",
        "        for batch_idx, data in enumerate(valid_dataloader):\n",
        "            x_valid, y_valid = data\n",
        "\n",
        "            v_hat = model.forward(x_valid)\n",
        "            v_loss = criterion(v_hat,y_valid.long())\n",
        "            _, predicted = torch.max(v_hat.data, 1)\n",
        "            total += y_valid.size(0)\n",
        "            accuracy += (predicted == y_valid).sum().item()\n",
        "        loss_values_v.append(loss.item())\n",
        "        accuracy = (accuracy / total)\n",
        " #------------------------------------------------------#\n",
        "  #----------------Check for early stopping---------------#\n",
        "        if epoch % 1 ==0:\n",
        "            print('[Epoch {}/{}] [Train_Loss: {:.6f} /Valid_Loss: {:.6f}]'.format(epoch,num_epochs, loss.item(),v_loss.item()))\n",
        "            print('[Epoch {}/{}] [Accuracy : {:.6f}]'.format(epoch, num_epochs,accuracy))\n",
        "\n",
        "        if accuracy_past > accuracy:\n",
        "            check +=1\n",
        "        else:\n",
        "            check =0\n",
        "            accuracy_past = accuracy\n",
        "\n",
        "        if check >50:\n",
        "            print('This is time to do early stopping')\n",
        "\n",
        "    torch.save(model, PATH +'model.pt')\n",
        "    return loss_values, loss_values_v"
      ],
      "metadata": {
        "id": "P7_k7G1YgMNG"
      },
      "execution_count": 87,
      "outputs": []
    },
    {
      "cell_type": "markdown",
      "source": [
        "● 매 epoch마다 training loss, validation loss, validation accuracy를 출력한다. 학습이 진행\n",
        "됨에 따라 정확도가 이전 정확도보다 향상되지 않으면 학습 중단(early stopping) 지점을 알려\n",
        "준다. (본 가이드북에서는 50 사용)\n",
        "● torch.save(model, PATH + 'model.pt') : 학습 결과를 PATH 위치에 저장"
      ],
      "metadata": {
        "id": "SAalzC0Xh69g"
      }
    },
    {
      "cell_type": "markdown",
      "source": [
        "⑦-1. 심층신경망(DNN) 모델 학습"
      ],
      "metadata": {
        "id": "az4HbiuXiFQk"
      }
    },
    {
      "cell_type": "code",
      "source": [],
      "metadata": {
        "id": "jwJ1tN4SiE9W"
      },
      "execution_count": null,
      "outputs": []
    },
    {
      "cell_type": "code",
      "source": [
        "PATH"
      ],
      "metadata": {
        "colab": {
          "base_uri": "https://localhost:8080/",
          "height": 183
        },
        "id": "ZR-VKso_h85p",
        "outputId": "bf6ebfc3-b066-4d09-fcbb-c92425726869"
      },
      "execution_count": 57,
      "outputs": [
        {
          "output_type": "error",
          "ename": "NameError",
          "evalue": "ignored",
          "traceback": [
            "\u001b[0;31m---------------------------------------------------------------------------\u001b[0m",
            "\u001b[0;31mNameError\u001b[0m                                 Traceback (most recent call last)",
            "\u001b[0;32m<ipython-input-57-c1ce0042bc34>\u001b[0m in \u001b[0;36m<cell line: 1>\u001b[0;34m()\u001b[0m\n\u001b[0;32m----> 1\u001b[0;31m \u001b[0mPATH\u001b[0m\u001b[0;34m\u001b[0m\u001b[0;34m\u001b[0m\u001b[0m\n\u001b[0m",
            "\u001b[0;31mNameError\u001b[0m: name 'PATH' is not defined"
          ]
        }
      ]
    },
    {
      "cell_type": "code",
      "source": [
        "DNN_model = KAMP_DNN()\n",
        "num_epochs =10\n",
        "criterion = nn.CrossEntropyLoss()\n",
        "optimizer = torch.optim.Adam(DNN_model.parameters())\n",
        "PATH ='/content/drive/MyDrive/deeplearning/Dataset_revolve/save/DNN/'\n",
        "DNN_loss_values, DNN_loss_values_v = train_model(DNN_model, criterion, optimizer, num_epochs, train_dataloader, PATH)"
      ],
      "metadata": {
        "colab": {
          "base_uri": "https://localhost:8080/",
          "height": 0
        },
        "id": "6odDJG1xh7j6",
        "outputId": "64aa1e5d-6e47-4827-e752-877ebcf4a6a5"
      },
      "execution_count": 86,
      "outputs": [
        {
          "output_type": "stream",
          "name": "stdout",
          "text": [
            "[Epoch 1/10] [Train_Loss: 1.180363 /Valid_Loss: 1.133188]\n",
            "[Epoch 1/10] [Accuracy : 0.438350]\n",
            "[Epoch 2/10] [Train_Loss: 0.937805 /Valid_Loss: 0.897436]\n",
            "[Epoch 2/10] [Accuracy : 0.487988]\n",
            "[Epoch 3/10] [Train_Loss: 0.880777 /Valid_Loss: 0.852768]\n",
            "[Epoch 3/10] [Accuracy : 0.489988]\n",
            "[Epoch 4/10] [Train_Loss: 0.865529 /Valid_Loss: 0.843968]\n",
            "[Epoch 4/10] [Accuracy : 0.502550]\n",
            "[Epoch 5/10] [Train_Loss: 0.861780 /Valid_Loss: 0.831530]\n",
            "[Epoch 5/10] [Accuracy : 0.529525]\n",
            "[Epoch 6/10] [Train_Loss: 0.830811 /Valid_Loss: 0.811637]\n",
            "[Epoch 6/10] [Accuracy : 0.563237]\n",
            "[Epoch 7/10] [Train_Loss: 0.801352 /Valid_Loss: 0.778514]\n",
            "[Epoch 7/10] [Accuracy : 0.595500]\n",
            "[Epoch 8/10] [Train_Loss: 0.775356 /Valid_Loss: 0.745961]\n",
            "[Epoch 8/10] [Accuracy : 0.621912]\n",
            "[Epoch 9/10] [Train_Loss: 0.756908 /Valid_Loss: 0.720295]\n",
            "[Epoch 9/10] [Accuracy : 0.642100]\n",
            "[Epoch 10/10] [Train_Loss: 0.731327 /Valid_Loss: 0.711625]\n",
            "[Epoch 10/10] [Accuracy : 0.646763]\n"
          ]
        }
      ]
    },
    {
      "cell_type": "code",
      "source": [
        "num_epochs"
      ],
      "metadata": {
        "colab": {
          "base_uri": "https://localhost:8080/",
          "height": 0
        },
        "id": "WFvTZf82izdU",
        "outputId": "42bca615-7c84-4986-db01-1dbff2a13bc0"
      },
      "execution_count": 61,
      "outputs": [
        {
          "output_type": "execute_result",
          "data": {
            "text/plain": [
              "1000"
            ]
          },
          "metadata": {},
          "execution_count": 61
        }
      ]
    },
    {
      "cell_type": "markdown",
      "source": [
        "● DNN_model = KAMP_DNN() : 학습을 위해 심층신경망 모델 정의한다.\n",
        "● num_epochs = 1000 : 학습의 반복 횟수 설정한다.\n",
        "● criterion = nn.CrossEntropyLoss() : AI 분석 모델 학습을 위한 손실함수로 분류\n",
        "(Classification)에 주로 사용되는 nn.CrossEntropyLoss 사용한다.\n",
        "● optimizer = torch.optim.Adam(DNN_model.parameters()) : SGD+momentum 과\n",
        "RMSprop optimizer의 기능을 모두 갖춘 Adam optimizer 사용하였으며, 이 경우 따로\n",
        "Learning rate의 설정은 불필요하다.\n",
        "● PATH = 'save/DNN/' : 학습이 완료된 후 ‘model.pt’ 데이터가 저장되는 위치\n",
        "● DNN_loss_values, DNN_loss_values_v = train_model(DNN_model, criterion,\n",
        "optimizer, num_epochs, train_dataloader, PATH) : 심층신경망 모델의 학습을 진행하고,\n",
        "손실그래프를 그리기 위한 training loss와 validation loss를 변수로 저장한다."
      ],
      "metadata": {
        "id": "lqduEXwmjnI1"
      }
    },
    {
      "cell_type": "markdown",
      "source": [
        "⑦-2. 합성곱신경망(CNN) 모델 학습"
      ],
      "metadata": {
        "id": "rRhUst4yjn1C"
      }
    },
    {
      "cell_type": "code",
      "source": [
        "CNN_model = KAMP_CNN()\n",
        "num_epochs =10\n",
        "criterion = nn.CrossEntropyLoss()\n",
        "optimizer = torch.optim.Adam(CNN_model.parameters())\n",
        "PATH ='/content/drive/MyDrive/deeplearning/Dataset_revolve/save/CNN/'\n",
        "CNN_loss_values, CNN_loss_values_v = train_model(CNN_model, criterion, optimizer, num_epochs, train_dataloader, PATH)"
      ],
      "metadata": {
        "colab": {
          "base_uri": "https://localhost:8080/"
        },
        "id": "_Yb03Vs7jpLv",
        "outputId": "40c762e8-b9f7-41c5-a3f2-17c2e5fb544c"
      },
      "execution_count": 92,
      "outputs": [
        {
          "output_type": "stream",
          "name": "stdout",
          "text": [
            "[Epoch 1/10] [Train_Loss: 1.294675 /Valid_Loss: 1.306050]\n",
            "[Epoch 1/10] [Accuracy : 0.396975]\n",
            "[Epoch 2/10] [Train_Loss: 1.241536 /Valid_Loss: 1.231047]\n",
            "[Epoch 2/10] [Accuracy : 0.444113]\n",
            "[Epoch 3/10] [Train_Loss: 1.182991 /Valid_Loss: 1.179583]\n",
            "[Epoch 3/10] [Accuracy : 0.461512]\n",
            "[Epoch 4/10] [Train_Loss: 1.138363 /Valid_Loss: 1.123455]\n",
            "[Epoch 4/10] [Accuracy : 0.466087]\n",
            "[Epoch 5/10] [Train_Loss: 1.094546 /Valid_Loss: 1.079866]\n",
            "[Epoch 5/10] [Accuracy : 0.478388]\n",
            "[Epoch 6/10] [Train_Loss: 1.051097 /Valid_Loss: 1.043377]\n",
            "[Epoch 6/10] [Accuracy : 0.487638]\n",
            "[Epoch 7/10] [Train_Loss: 1.025182 /Valid_Loss: 1.010355]\n",
            "[Epoch 7/10] [Accuracy : 0.496262]\n",
            "[Epoch 8/10] [Train_Loss: 0.987983 /Valid_Loss: 0.988616]\n",
            "[Epoch 8/10] [Accuracy : 0.500950]\n",
            "[Epoch 9/10] [Train_Loss: 0.972412 /Valid_Loss: 0.961495]\n",
            "[Epoch 9/10] [Accuracy : 0.520900]\n",
            "[Epoch 10/10] [Train_Loss: 0.947619 /Valid_Loss: 0.936956]\n",
            "[Epoch 10/10] [Accuracy : 0.541763]\n"
          ]
        }
      ]
    },
    {
      "cell_type": "markdown",
      "source": [
        "⑦-3. 순환신경망(RNN) 모델 학습"
      ],
      "metadata": {
        "id": "aykcR2iCkSpP"
      }
    },
    {
      "cell_type": "code",
      "source": [
        "RNN_model = KAMP_RNN()\n",
        "num_epochs =10\n",
        "criterion = nn.CrossEntropyLoss()\n",
        "optimizer = torch.optim.Adam(RNN_model.parameters())\n",
        "PATH ='/content/drive/MyDrive/deeplearning/Dataset_revolve/save/RNN/'\n",
        "RNN_loss_values, RNN_loss_values_v = train_model(RNN_model, criterion, optimizer, num_epochs, train_dataloader, PATH)"
      ],
      "metadata": {
        "colab": {
          "base_uri": "https://localhost:8080/"
        },
        "id": "0MM8nvSjkFWH",
        "outputId": "634ccbd0-564e-4802-838a-a9cf5ce566e3"
      },
      "execution_count": 91,
      "outputs": [
        {
          "output_type": "stream",
          "name": "stdout",
          "text": [
            "[Epoch 1/10] [Train_Loss: 1.386188 /Valid_Loss: 1.386331]\n",
            "[Epoch 1/10] [Accuracy : 0.250000]\n",
            "[Epoch 2/10] [Train_Loss: 1.386152 /Valid_Loss: 1.386196]\n",
            "[Epoch 2/10] [Accuracy : 0.327500]\n",
            "[Epoch 3/10] [Train_Loss: 1.385295 /Valid_Loss: 1.385119]\n",
            "[Epoch 3/10] [Accuracy : 0.321487]\n",
            "[Epoch 4/10] [Train_Loss: 1.326654 /Valid_Loss: 1.321613]\n",
            "[Epoch 4/10] [Accuracy : 0.400587]\n",
            "[Epoch 5/10] [Train_Loss: 1.097997 /Valid_Loss: 1.089849]\n",
            "[Epoch 5/10] [Accuracy : 0.433762]\n",
            "[Epoch 6/10] [Train_Loss: 1.096524 /Valid_Loss: 1.086599]\n",
            "[Epoch 6/10] [Accuracy : 0.447837]\n",
            "[Epoch 7/10] [Train_Loss: 1.082828 /Valid_Loss: 1.084762]\n",
            "[Epoch 7/10] [Accuracy : 0.447650]\n",
            "[Epoch 8/10] [Train_Loss: 1.088967 /Valid_Loss: 1.082140]\n",
            "[Epoch 8/10] [Accuracy : 0.450750]\n",
            "[Epoch 9/10] [Train_Loss: 1.098532 /Valid_Loss: 1.080452]\n",
            "[Epoch 9/10] [Accuracy : 0.448037]\n",
            "[Epoch 10/10] [Train_Loss: 1.096070 /Valid_Loss: 1.078383]\n",
            "[Epoch 10/10] [Accuracy : 0.444738]\n"
          ]
        }
      ]
    },
    {
      "cell_type": "markdown",
      "source": [
        "[단계 ⑧] AI 모델 평가\n",
        "⑧-0. 모델 평가 코드(공통)\n",
        "학습이 완료된 AI 모델의 평가를 위한 공통 code는 다음과 같다.\n",
        "- 모델 평가"
      ],
      "metadata": {
        "id": "YU6WJJfmlGfa"
      }
    },
    {
      "cell_type": "code",
      "source": [
        "def test_model(model, PATH):\n",
        " model = torch.load(PATH +'model.pt')\n",
        " #---------------------- 모델 시험 ---------------------#\n",
        " model.eval()\n",
        " total =0.0\n",
        " accuracy =0.0\n",
        " for batch_idx, data in enumerate(test_dataloader):\n",
        "  x_test, y_test = data\n",
        "\n",
        "  t_hat = model(x_test)\n",
        "  _, predicted = torch.max(t_hat.data, 1)\n",
        "  total += y_test.size(0)\n",
        "  accuracy += (predicted == y_test).sum().item()\n",
        " accuracy = (accuracy / total)\n",
        " #------------------------------------------------------#\n",
        " print(accuracy)"
      ],
      "metadata": {
        "id": "TNFlTngalHFI"
      },
      "execution_count": 68,
      "outputs": []
    },
    {
      "cell_type": "markdown",
      "source": [
        "● 입력 : 평가를 진행할 AI 분석 모델, 모델 학습 결과가 저장된 위치(PATH)를 입력한다.\n",
        "● 진행 : test data를 이용하여 앞선 검증 코드와 동일한 프로세스로 진행된다.\n",
        "● 출력 : test data를 이용한 모델 정확도 결과를 출력한다."
      ],
      "metadata": {
        "id": "R5d4aN8elSP2"
      }
    },
    {
      "cell_type": "code",
      "source": [
        "from sklearn.metrics import classification_report, confusion_matrix\n",
        "def draw_confusion_matrix(model, xt, yt, PATH):\n",
        "  y_pred = []; y_true = []\n",
        "  model.eval()\n",
        "  y_hat = model(xt); output = (torch.max(torch.exp(y_hat), 1)[1]).data.cpu().numpy()\n",
        "  y_pred.extend(output)\n",
        "  labels = y_test.data.cpu().numpy()\n",
        "  y_true.extend(labels)\n",
        "  # 분류 항목\n",
        "  classes = ('Normal', 'Type1', 'Type2', 'Type3')\n",
        "  # Confussion Matrix 생성\n",
        "  plt.figure(figsize = (7,5))\n",
        "  dlen = float(len(x_test)) # test data 크기 : 여기서는 80000\n",
        "  cm = confusion_matrix(y_true, y_pred)\n",
        "  df_cm = pd.DataFrame(cm/dlen, index = [i for i in classes],columns = [i for i in classes])\n",
        "  sns.heatmap(df_cm, annot=True, cmap=plt.cm.Blues)\n",
        "  plt.title(\"Confusion Matrix\", size=24, fontweight='bold')\n",
        "  plt.xlabel(\"Predicted Label\", size=16); plt.ylabel(\"Actual Label\", size=16)\n",
        "  plt.rc('xtick', labelsize=12); plt.rc('ytick', labelsize=12); plt.yticks(rotation=0)\n",
        "  plt.savefig(PATH +'cm_output.png')"
      ],
      "metadata": {
        "id": "3pZqYIEzlS2K"
      },
      "execution_count": 69,
      "outputs": []
    },
    {
      "cell_type": "markdown",
      "source": [
        "● 입력 : 평가를 진행할 AI 분석 모델, 평가에 사용할 test data(x_test, y_test), 모델 학습 결과가\n",
        "저장된 위치(PATH)를 입력한다.\n",
        "● 진행 : test data를 이용하여 AI 분석 모델이 예측한 결과와 실제 라벨값이 얼마나 일치하는지\n",
        "정확도를 계산한다.\n",
        "● 출력 : test data를 이용한 모델 정확도 혼동 행렬 결과를 시각화하고 이를 저장 위치(PATH)에\n",
        "cm_output.png로 저장한다."
      ],
      "metadata": {
        "id": "4A5E2C21laaK"
      }
    },
    {
      "cell_type": "code",
      "source": [
        "def plot_loss_graph(loss_values, loss_values_v):\n",
        "  plt.figure()\n",
        "  plt.plot(loss_values)\n",
        "  plt.plot(loss_values_v)\n",
        "  plt.title(\"Training & Validation Loss\")\n",
        "  plt.ylabel(\"loss\", fontsize=\"large\")\n",
        "  plt.xlabel(\"epoch\", fontsize=\"large\")\n",
        "  plt.legend([\"train\", \"validation\"])\n",
        "  plt.tight_layout()\n",
        "  # 결과 저장\n",
        "  plt.savefig(PATH +'lossplot_output.png')"
      ],
      "metadata": {
        "id": "1aeLUkC4lbDY"
      },
      "execution_count": 70,
      "outputs": []
    },
    {
      "cell_type": "markdown",
      "source": [
        "입력 : 학습 및 검증 loss의 history(loss_valus, loss_values_v)를 입력한다.\n",
        "● 출력 : 학습 과정을 loss 값을 통해 시각화(plt.plot)하고, 이를 저장 위치(PATH)에 cm_output.\n",
        "png로 저장한다."
      ],
      "metadata": {
        "id": "GspaN87PlgOa"
      }
    },
    {
      "cell_type": "markdown",
      "source": [
        "⑧-1. 심층신경망(DNN) 모델 평가"
      ],
      "metadata": {
        "id": "vGB2eDpyliHh"
      }
    },
    {
      "cell_type": "code",
      "source": [
        "DNN_model"
      ],
      "metadata": {
        "colab": {
          "base_uri": "https://localhost:8080/",
          "height": 0
        },
        "id": "2y3s_R2Ulwoc",
        "outputId": "573b2b11-ab00-4556-be79-6a6967129c46"
      },
      "execution_count": 72,
      "outputs": [
        {
          "output_type": "execute_result",
          "data": {
            "text/plain": [
              "KAMP_DNN(\n",
              "  (layer1): Linear(in_features=4, out_features=100, bias=True)\n",
              "  (layer2): Linear(in_features=100, out_features=100, bias=True)\n",
              "  (layer3): Linear(in_features=100, out_features=100, bias=True)\n",
              "  (layer4): Linear(in_features=100, out_features=4, bias=True)\n",
              "  (dropout): Dropout(p=0.2, inplace=False)\n",
              "  (relu): ReLU()\n",
              ")"
            ]
          },
          "metadata": {},
          "execution_count": 72
        }
      ]
    },
    {
      "cell_type": "code",
      "source": [
        "PATH ='/content/drive/MyDrive/deeplearning/Dataset_revolve/save/DNN/'\n",
        "test_model(DNN_model, PATH)"
      ],
      "metadata": {
        "colab": {
          "base_uri": "https://localhost:8080/",
          "height": 0
        },
        "id": "pgGM_H3hlgvI",
        "outputId": "c3b37de8-693f-48f3-cb40-601a9b02d757"
      },
      "execution_count": 88,
      "outputs": [
        {
          "output_type": "stream",
          "name": "stdout",
          "text": [
            "0.6581375\n"
          ]
        }
      ]
    },
    {
      "cell_type": "markdown",
      "source": [
        "혼동행렬"
      ],
      "metadata": {
        "id": "rD8xo0NEl7pR"
      }
    },
    {
      "cell_type": "code",
      "source": [
        "draw_confusion_matrix(DNN_model, x_test, y_test, PATH)"
      ],
      "metadata": {
        "colab": {
          "base_uri": "https://localhost:8080/",
          "height": 513
        },
        "id": "5iJMXF5Dl7Ls",
        "outputId": "ca3f2e74-6c62-4c2f-a23b-24a2067d02ae"
      },
      "execution_count": 89,
      "outputs": [
        {
          "output_type": "display_data",
          "data": {
            "text/plain": [
              "<Figure size 700x500 with 2 Axes>"
            ],
            "image/png": "[encoded data removed]"
          },
          "metadata": {}
        }
      ]
    },
    {
      "cell_type": "markdown",
      "source": [
        "손실그래프"
      ],
      "metadata": {
        "id": "aB8BbgbpmAsq"
      }
    },
    {
      "cell_type": "code",
      "source": [
        "plot_loss_graph(DNN_loss_values, DNN_loss_values_v)"
      ],
      "metadata": {
        "colab": {
          "base_uri": "https://localhost:8080/",
          "height": 488
        },
        "id": "sxT8_rwSmBk6",
        "outputId": "3534834e-0c1e-4aa4-eb98-998dbfa8c8d7"
      },
      "execution_count": 90,
      "outputs": [
        {
          "output_type": "display_data",
          "data": {
            "text/plain": [
              "<Figure size 640x480 with 1 Axes>"
            ],
            "image/png": "[encoded data removed]"
          },
          "metadata": {}
        }
      ]
    },
    {
      "cell_type": "markdown",
      "source": [
        "⑧-2. 합성곱신경망(CNN) 모델 평가\n",
        "- 모델 평가"
      ],
      "metadata": {
        "id": "WtPD4QBcmISV"
      }
    },
    {
      "cell_type": "code",
      "source": [
        "PATH ='/content/drive/MyDrive/deeplearning/Dataset_revolve/save/CNN/'\n",
        "test_model(CNN_model, PATH)"
      ],
      "metadata": {
        "colab": {
          "base_uri": "https://localhost:8080/",
          "height": 0
        },
        "id": "OSxSsYB9mJAN",
        "outputId": "f093d63b-34d0-4606-eb51-ef24717bc4d3"
      },
      "execution_count": 76,
      "outputs": [
        {
          "output_type": "stream",
          "name": "stdout",
          "text": [
            "0.4358625\n"
          ]
        }
      ]
    },
    {
      "cell_type": "markdown",
      "source": [
        "혼동행렬"
      ],
      "metadata": {
        "id": "MH76o-fZmPX_"
      }
    },
    {
      "cell_type": "code",
      "source": [
        "draw_confusion_matrix(CNN_model, x_test, y_test, PATH)"
      ],
      "metadata": {
        "colab": {
          "base_uri": "https://localhost:8080/",
          "height": 513
        },
        "id": "L1J6HnPWmQYC",
        "outputId": "dc26e13b-22b3-4c36-bde3-a1c24a6c5631"
      },
      "execution_count": 93,
      "outputs": [
        {
          "output_type": "display_data",
          "data": {
            "text/plain": [
              "<Figure size 700x500 with 2 Axes>"
            ],
            "image/png": "[encoded data removed]"
          },
          "metadata": {}
        }
      ]
    },
    {
      "cell_type": "markdown",
      "source": [
        "손실그래프"
      ],
      "metadata": {
        "id": "fLJNV0i6mS68"
      }
    },
    {
      "cell_type": "code",
      "source": [
        "plot_loss_graph(CNN_loss_values, CNN_loss_values_v)"
      ],
      "metadata": {
        "colab": {
          "base_uri": "https://localhost:8080/",
          "height": 488
        },
        "id": "H_4975qemUSD",
        "outputId": "e4b77593-386e-41e7-d201-0fef38e81740"
      },
      "execution_count": 94,
      "outputs": [
        {
          "output_type": "display_data",
          "data": {
            "text/plain": [
              "<Figure size 640x480 with 1 Axes>"
            ],
            "image/png": "[encoded data removed]"
          },
          "metadata": {}
        }
      ]
    },
    {
      "cell_type": "markdown",
      "source": [
        "⑧-3. 순환신경망(RNN) 모델 평가\n",
        "- 모델 평가"
      ],
      "metadata": {
        "id": "sp-r6G59mXVR"
      }
    },
    {
      "cell_type": "code",
      "source": [
        "PATH ='/content/drive/MyDrive/deeplearning/Dataset_revolve/save/RNN/'\n",
        "test_model(RNN_model, PATH)"
      ],
      "metadata": {
        "colab": {
          "base_uri": "https://localhost:8080/",
          "height": 0
        },
        "id": "6p7va2jdmX6G",
        "outputId": "73d119fc-421e-4b09-fc91-2ce763cf9608"
      },
      "execution_count": 79,
      "outputs": [
        {
          "output_type": "stream",
          "name": "stdout",
          "text": [
            "0.25\n"
          ]
        }
      ]
    },
    {
      "cell_type": "markdown",
      "source": [
        "혼동행렬"
      ],
      "metadata": {
        "id": "ChjKdUeOmc18"
      }
    },
    {
      "cell_type": "code",
      "source": [
        "draw_confusion_matrix(RNN_model, x_test, y_test, PATH)"
      ],
      "metadata": {
        "colab": {
          "base_uri": "https://localhost:8080/",
          "height": 513
        },
        "id": "oi6wnhiMmePq",
        "outputId": "e6d35f5e-bcf6-4164-feec-7c0c97659d7d"
      },
      "execution_count": 95,
      "outputs": [
        {
          "output_type": "display_data",
          "data": {
            "text/plain": [
              "<Figure size 700x500 with 2 Axes>"
            ],
            "image/png": "[encoded data removed]"
          },
          "metadata": {}
        }
      ]
    },
    {
      "cell_type": "markdown",
      "source": [
        "손실그래프"
      ],
      "metadata": {
        "id": "2luimRuXmhvA"
      }
    },
    {
      "cell_type": "code",
      "source": [
        "plot_loss_graph(RNN_loss_values, RNN_loss_values_v)"
      ],
      "metadata": {
        "colab": {
          "base_uri": "https://localhost:8080/",
          "height": 488
        },
        "id": "7bpe71FKmkvA",
        "outputId": "1aa5b9b5-734e-42ec-be45-453d9bbcb27f"
      },
      "execution_count": 96,
      "outputs": [
        {
          "output_type": "display_data",
          "data": {
            "text/plain": [
              "<Figure size 640x480 with 1 Axes>"
            ],
            "image/png": "[encoded data removed]"
          },
          "metadata": {}
        }
      ]
    }
  ]
}