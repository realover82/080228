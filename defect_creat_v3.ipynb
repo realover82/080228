{
  "nbformat": 4,
  "nbformat_minor": 0,
  "metadata": {
    "colab": {
      "provenance": [],
      "authorship_tag": "ABX9TyO8ixqIkxM9xQc0A0yrjkWR",
      "include_colab_link": true
    },
    "kernelspec": {
      "name": "python3",
      "display_name": "Python 3"
    },
    "language_info": {
      "name": "python"
    }
  },
  "cells": [
    {
      "cell_type": "markdown",
      "metadata": {
        "id": "view-in-github",
        "colab_type": "text"
      },
      "source": [
        "<a href=\"https://colab.research.google.com/github/realover82/080228/blob/master/defect_creat_v3.ipynb\" target=\"_parent\"><img src=\"https://colab.research.google.com/assets/colab-badge.svg\" alt=\"Open In Colab\"/></a>"
      ]
    },
    {
      "cell_type": "code",
      "execution_count": null,
      "metadata": {
        "id": "ZBU7GlkIubjB"
      },
      "outputs": [],
      "source": [
        "import cv2\n",
        "import numpy as np\n",
        "from google.colab.patches import cv2_imshow\n",
        "import random\n",
        "\n",
        "# 이미지를 읽어옵니다.\n",
        "image = cv2.imread('/content/drive/MyDrive/deeplearning/remocon/original/defect_device-2-1.jpg')\n",
        "\n",
        "rectangles = [\n",
        "    (10, 70, 50, 50),\n",
        "    (5, 5, 50, 50),\n",
        "    (145, 70, 50, 50),\n",
        "    (10, 320, 50, 50),\n",
        "    (80, 340, 50, 50),\n",
        "    (145, 320, 50, 50),\n",
        "    (10, 480, 50, 50),\n",
        "    (80, 455, 50, 50),\n",
        "    (80, 520, 50, 50),\n",
        "    (145, 480, 50, 50)\n",
        "]\n",
        "\n",
        "# 경계상자 중에서 랜덤하게 하나를 선택합니다.\n",
        "random_rect = random.choice(rectangles)\n",
        "x, y, w, h = random_rect\n",
        "roi = image[y:y+h, x:x+w]\n",
        "\n",
        "# 선택된 경계상자 안에 스크래치를 추가합니다.\n",
        "num_scratches = random.randint(1, 1)\n",
        "for _ in range(num_scratches):\n",
        "    start_x = random.randint(0, w)\n",
        "    start_y = random.randint(0, h)\n",
        "    end_x = start_x + random.randint(0, 10)\n",
        "    end_y = start_y + random.randint(0, 10)\n",
        "    cv2.line(roi, (start_x, start_y), (end_x, end_y), (78, 84, 65), 2)\n",
        "\n",
        "print(random_rect)\n",
        "# 결과 이미지를 표시합니다.\n",
        "cv2_imshow(image)\n",
        "\n",
        "# 결과 이미지를 저장합니다.\n",
        "cv2.imwrite(\"/content/drive/MyDrive/deeplearning/remocon/test04/scratched_image-v2-10.jpg\", image)\n"
      ]
    }
  ]
}