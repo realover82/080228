{
  "nbformat": 4,
  "nbformat_minor": 0,
  "metadata": {
    "colab": {
      "provenance": [],
      "mount_file_id": "13mcBUTD5_gRGOxBv83qr3qJUTwI3Kv06",
      "authorship_tag": "ABX9TyPRQfuBmHm/dD/B/hP+epmv",
      "include_colab_link": true
    },
    "kernelspec": {
      "name": "python3",
      "display_name": "Python 3"
    },
    "language_info": {
      "name": "python"
    }
  },
  "cells": [
    {
      "cell_type": "markdown",
      "metadata": {
        "id": "view-in-github",
        "colab_type": "text"
      },
      "source": [
        "<a href=\"https://colab.research.google.com/github/realover82/080228/blob/master/ai_remocon_defect.ipynb\" target=\"_parent\"><img src=\"https://colab.research.google.com/assets/colab-badge.svg\" alt=\"Open In Colab\"/></a>"
      ]
    },
    {
      "cell_type": "markdown",
      "source": [
        "https://pytorch.org/vision/0.9/transforms.html"
      ],
      "metadata": {
        "id": "YrqmuXWtg6_c"
      }
    },
    {
      "cell_type": "code",
      "source": [],
      "metadata": {
        "id": "rEVwZf7YO0U0"
      },
      "execution_count": null,
      "outputs": []
    },
    {
      "cell_type": "code",
      "source": [
        "import torch\n",
        "import torchvision.transforms as transforms\n",
        "from torchvision.utils import save_image\n",
        "from PIL import Image\n",
        "\n",
        "# 이미지 증강 함수\n",
        "def augment_image(image):\n",
        "    augmented_images = []\n",
        "\n",
        "    # Color Distort (Drop)\n",
        "    color_distort_drop_transform = transforms.RandomApply([\n",
        "        transforms.RandomHorizontalFlip(p=1.0),\n",
        "        transforms.RandomVerticalFlip(p=1.0),\n",
        "        transforms.RandomGrayscale(p=1.0),\n",
        "    ])\n",
        "    augmented_images.append(color_distort_drop_transform(image))\n",
        "\n",
        "    # Color Distort (Jitter)\n",
        "    color_distort_jitter_transform = transforms.ColorJitter(brightness=0.5, contrast=0.5, saturation=0.5, hue=0.1)\n",
        "    augmented_images.append(color_distort_jitter_transform(image))\n",
        "\n",
        "    # Rotate (90, 180, 270)\n",
        "    angles = [90, 180, 270]\n",
        "    for angle in angles:\n",
        "        rotate_transform = transforms.RandomRotation((angle, angle))\n",
        "        augmented_images.append(rotate_transform(image))\n",
        "\n",
        "    # Gaussian Noise\n",
        "    gaussian_noise_transform = transforms.Compose([\n",
        "        transforms.ToTensor(),\n",
        "        transforms.Lambda(lambda x: x + torch.randn_like(x) * 0.1),\n",
        "        transforms.ToPILImage()\n",
        "    ])\n",
        "    augmented_images.append(gaussian_noise_transform(image))\n",
        "\n",
        "    # Gaussian Blur\n",
        "    gaussian_blur_transform = transforms.GaussianBlur(kernel_size=5)\n",
        "    augmented_images.append(gaussian_blur_transform(image))\n",
        "\n",
        "    # Sobel Filtering\n",
        "    sobel_transform = transforms.Compose([\n",
        "        transforms.Grayscale(),\n",
        "        transforms.Lambda(lambda x: x.convert(\"RGB\")),\n",
        "    ])\n",
        "    augmented_images.append(sobel_transform(image))\n",
        "\n",
        "    return augmented_images\n",
        "\n",
        "# 데이터셋 경로\n",
        "# data_path = \"/content/drive/MyDrive/deeplearning/remocon/TM 1240.030 B INSERT NEW MODEL 1315Q/2023-07-20-13-29-49-0.jpg\"  # 데이터셋 경로를 적절히 수정해주세요\n",
        "data_path = \"/content/drive/MyDrive/deeplearning/remocon/defect-kty/러버 버튼 인쇄 번짐.JPG\"  # 데이터셋 경로를 적절히 수정해주세요\n",
        "\n",
        "# 이미지 로드\n",
        "original_image = Image.open(data_path).convert(\"RGB\")\n",
        "\n",
        "# 가상의 불량 데이터 사진 100장 생성\n",
        "for i in range(100):\n",
        "    # 이미지 증강\n",
        "    augmented_images = augment_image(original_image)\n",
        "\n",
        "    # 이미지 저장\n",
        "    for j, augmented_image in enumerate(augmented_images):\n",
        "        # augmented_image.save(f\"/content/drive/MyDrive/deeplearning/remocon/test02/output_2_{i+1}_{j+1}.jpg\")\n",
        "        augmented_image.save(f\"/content/drive/MyDrive/deeplearning/remocon/defect-kty/rubber_ssllim/output_러버버튼인쇄번짐_{i+1}.jpg\")\n"
      ],
      "metadata": {
        "id": "q42pPBcDO0If"
      },
      "execution_count": null,
      "outputs": []
    },
    {
      "cell_type": "code",
      "source": [
        "from google.colab import drive\n",
        "drive.mount('/content/drive')"
      ],
      "metadata": {
        "id": "tWtCUKLFgpYH"
      },
      "execution_count": null,
      "outputs": []
    }
  ]
}