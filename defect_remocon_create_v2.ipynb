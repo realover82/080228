{
  "nbformat": 4,
  "nbformat_minor": 0,
  "metadata": {
    "colab": {
      "provenance": [],
      "authorship_tag": "ABX9TyOQ4YP5x6FOFuby5zLG8aH5",
      "include_colab_link": true
    },
    "kernelspec": {
      "name": "python3",
      "display_name": "Python 3"
    },
    "language_info": {
      "name": "python"
    }
  },
  "cells": [
    {
      "cell_type": "markdown",
      "metadata": {
        "id": "view-in-github",
        "colab_type": "text"
      },
      "source": [
        "<a href=\"https://colab.research.google.com/github/realover82/080228/blob/master/defect_remocon_create_v2.ipynb\" target=\"_parent\"><img src=\"https://colab.research.google.com/assets/colab-badge.svg\" alt=\"Open In Colab\"/></a>"
      ]
    },
    {
      "cell_type": "code",
      "execution_count": null,
      "metadata": {
        "id": "vD5rqDtv3P8d"
      },
      "outputs": [],
      "source": [
        "import cv2\n",
        "import numpy as np\n",
        "from google.colab.patches import cv2_imshow\n",
        "\n",
        "# 이미지 불러오기\n",
        "image_path = \"/content/drive/MyDrive/deeplearning/remocon/test02/test-01/output_1_1.jpg\"\n",
        "image = cv2.imread(image_path)\n",
        "\n",
        "# 그래디언트 방향\n",
        "# angles = [0, 45, 90, 135, 180, 225, 270, 315]\n",
        "angles = [np.random.randint(0, 360)]\n",
        "\n",
        "# 그래디언트 크기\n",
        "grids = [np.random.randint(120, 143)]\n",
        "\n",
        "# 이미지의 높이와 너비 가져오기\n",
        "height, width, _ = image.shape\n",
        "\n",
        "grid_size_x = np.random.randint(1139, 1439)\n",
        "grid_size_y = np.random.randint(250, 1550)\n",
        "\n",
        "scale_factor = 0.25  # 화살표 길이를 2배로 늘리는 스케일 팩터\n",
        "\n",
        "start_x = 1139\n",
        "start_y = 1550\n",
        "\n",
        "# 각 그리드에 대한 화살표 그리기\n",
        "for i in range(1):\n",
        "    for j in range(1):\n",
        "\n",
        "        start_x = j * grid_size_x + grid_size_x\n",
        "        start_y = i * grid_size_y + grid_size_y\n",
        "\n",
        "        for angle, magnitude in zip(angles, magnitudes):\n",
        "            dx = int(scale_factor * magnitude * np.cos(np.radians(angle)))\n",
        "            dy = int(scale_factor * magnitude * np.sin(np.radians(angle)))\n",
        "            cv2.line(image, (start_x, start_y), (start_x + dx, start_y - dy), (255, 255, 255), 2)\n",
        "\n",
        "# 결과 이미지 표시\n",
        "cv2_imshow(image)\n",
        "\n",
        "# 결과 이미지 저장\n",
        "cv2.imwrite(f'/content/drive/MyDrive/deeplearning/remocon/test03/result_v9_{j}.jpg', img)"
      ]
    }
  ]
}